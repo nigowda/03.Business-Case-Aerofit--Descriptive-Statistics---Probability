{
  "cells": [
    {
      "cell_type": "code",
      "execution_count": null,
      "id": "e3fb9fd7",
      "metadata": {
        "id": "e3fb9fd7"
      },
      "outputs": [],
      "source": [
        "import numpy  as np\n",
        "import pandas as pd\n",
        "import seaborn as sns\n",
        "import matplotlib.pyplot as plt\n"
      ]
    },
    {
      "cell_type": "markdown",
      "id": "581dd0b1",
      "metadata": {
        "id": "581dd0b1"
      },
      "source": [
        "**Aerofit Case Study**"
      ]
    },
    {
      "cell_type": "markdown",
      "id": "f89e04d4",
      "metadata": {
        "id": "f89e04d4"
      },
      "source": [
        "![**Aerofit**](https://encrypted-tbn2.gstatic.com/shopping?q=tbn:ANd9GcQXRkN2aQdT1D9OO3XQobaQVZW4-Dm4AuCXmjhQRG0T17niP9DK42supEPWZvr1drjAvFumb0-hqXHDMuEpTNkDipDCAQ2DV93dPi_2vqyX3NQRuPQqXabWUA)"
      ]
    },
    {
      "cell_type": "markdown",
      "id": "756b4d4f",
      "metadata": {
        "id": "756b4d4f"
      },
      "source": [
        "\n",
        "● Aerofit is a leading brand in the field of fitness equipment. Aerofit provides a product\n",
        "range including machines such as treadmills, exercise bikes, gym equipment, and\n",
        "fitness accessories to cater to the needs of all categories of people.  \n",
        "● The market research team at AeroFit wants to identify the characteristics of the target\n",
        "audience for each type of treadmill offered by the company, to provide a better\n",
        "recommendation of the treadmills to new customers. The team decides to investigate\n",
        "whether there are differences across the product with respect to customer\n",
        "characteristics.  \n",
        "● Perform descriptive analytics to create a customer profile for each AeroFit treadmill\n",
        "product by developing appropriate tables and charts.  \n",
        "● Construct two-way contingency tables for each AeroFit treadmill product and compute\n",
        "all conditional and marginal probabilities and their insights/impact on the business"
      ]
    },
    {
      "cell_type": "code",
      "execution_count": null,
      "id": "23709070",
      "metadata": {
        "id": "23709070",
        "outputId": "44447791-a604-4d34-d2e2-9f41d9edbd87"
      },
      "outputs": [
        {
          "data": {
            "text/html": [
              "<div>\n",
              "<style scoped>\n",
              "    .dataframe tbody tr th:only-of-type {\n",
              "        vertical-align: middle;\n",
              "    }\n",
              "\n",
              "    .dataframe tbody tr th {\n",
              "        vertical-align: top;\n",
              "    }\n",
              "\n",
              "    .dataframe thead th {\n",
              "        text-align: right;\n",
              "    }\n",
              "</style>\n",
              "<table border=\"1\" class=\"dataframe\">\n",
              "  <thead>\n",
              "    <tr style=\"text-align: right;\">\n",
              "      <th></th>\n",
              "      <th>Product</th>\n",
              "      <th>Age</th>\n",
              "      <th>Gender</th>\n",
              "      <th>Education</th>\n",
              "      <th>MaritalStatus</th>\n",
              "      <th>Usage</th>\n",
              "      <th>Fitness</th>\n",
              "      <th>Income</th>\n",
              "      <th>Miles</th>\n",
              "    </tr>\n",
              "  </thead>\n",
              "  <tbody>\n",
              "    <tr>\n",
              "      <th>0</th>\n",
              "      <td>KP281</td>\n",
              "      <td>18</td>\n",
              "      <td>Male</td>\n",
              "      <td>14</td>\n",
              "      <td>Single</td>\n",
              "      <td>3</td>\n",
              "      <td>4</td>\n",
              "      <td>29562</td>\n",
              "      <td>112</td>\n",
              "    </tr>\n",
              "    <tr>\n",
              "      <th>1</th>\n",
              "      <td>KP281</td>\n",
              "      <td>19</td>\n",
              "      <td>Male</td>\n",
              "      <td>15</td>\n",
              "      <td>Single</td>\n",
              "      <td>2</td>\n",
              "      <td>3</td>\n",
              "      <td>31836</td>\n",
              "      <td>75</td>\n",
              "    </tr>\n",
              "    <tr>\n",
              "      <th>2</th>\n",
              "      <td>KP281</td>\n",
              "      <td>19</td>\n",
              "      <td>Female</td>\n",
              "      <td>14</td>\n",
              "      <td>Partnered</td>\n",
              "      <td>4</td>\n",
              "      <td>3</td>\n",
              "      <td>30699</td>\n",
              "      <td>66</td>\n",
              "    </tr>\n",
              "    <tr>\n",
              "      <th>3</th>\n",
              "      <td>KP281</td>\n",
              "      <td>19</td>\n",
              "      <td>Male</td>\n",
              "      <td>12</td>\n",
              "      <td>Single</td>\n",
              "      <td>3</td>\n",
              "      <td>3</td>\n",
              "      <td>32973</td>\n",
              "      <td>85</td>\n",
              "    </tr>\n",
              "    <tr>\n",
              "      <th>4</th>\n",
              "      <td>KP281</td>\n",
              "      <td>20</td>\n",
              "      <td>Male</td>\n",
              "      <td>13</td>\n",
              "      <td>Partnered</td>\n",
              "      <td>4</td>\n",
              "      <td>2</td>\n",
              "      <td>35247</td>\n",
              "      <td>47</td>\n",
              "    </tr>\n",
              "  </tbody>\n",
              "</table>\n",
              "</div>"
            ],
            "text/plain": [
              "  Product  Age  Gender  Education MaritalStatus  Usage  Fitness  Income  Miles\n",
              "0   KP281   18    Male         14        Single      3        4   29562    112\n",
              "1   KP281   19    Male         15        Single      2        3   31836     75\n",
              "2   KP281   19  Female         14     Partnered      4        3   30699     66\n",
              "3   KP281   19    Male         12        Single      3        3   32973     85\n",
              "4   KP281   20    Male         13     Partnered      4        2   35247     47"
            ]
          },
          "execution_count": 803,
          "metadata": {},
          "output_type": "execute_result"
        }
      ],
      "source": [
        "data = pd.read_csv('aerofit_treadmill.csv')\n",
        "data.head()"
      ]
    },
    {
      "cell_type": "markdown",
      "id": "4ea843d4",
      "metadata": {
        "id": "4ea843d4"
      },
      "source": [
        "**Dataset Consists of:**  \n",
        "    Product: Product Purchased KP281, KP481, or KP781  \n",
        "    Age: In years  \n",
        "    Gender: Male/Female  \n",
        "    Education: in years  \n",
        "    MaritalStatus: single or partnered  \n",
        "    Usage: average number of times the customer plans to use the treadmill each week  \n",
        "    Income: annual income (in $)  \n",
        "    Fitness: self-rated fitness on a 1-to-5 scale, where 1 is the poor shape and 5 is the excellent shape.  \n",
        "    Miles: average number of miles the customer expects to walk/run each week  \n"
      ]
    },
    {
      "cell_type": "markdown",
      "id": "44aa7c41",
      "metadata": {
        "id": "44aa7c41"
      },
      "source": [
        "### <font color='darkblue'>**Basic Analysis**</font>"
      ]
    },
    {
      "cell_type": "code",
      "execution_count": null,
      "id": "b5944648",
      "metadata": {
        "id": "b5944648",
        "outputId": "c8a86f9b-a579-4bca-faca-25f456e14174"
      },
      "outputs": [
        {
          "data": {
            "text/plain": [
              "(180, 9)"
            ]
          },
          "execution_count": 804,
          "metadata": {},
          "output_type": "execute_result"
        }
      ],
      "source": [
        "data.shape"
      ]
    },
    {
      "cell_type": "code",
      "execution_count": null,
      "id": "682ea83a",
      "metadata": {
        "id": "682ea83a",
        "outputId": "c00833bd-5c2d-4f69-cd1e-d4937f061aec"
      },
      "outputs": [
        {
          "data": {
            "text/plain": [
              "Product          object\n",
              "Age               int64\n",
              "Gender           object\n",
              "Education         int64\n",
              "MaritalStatus    object\n",
              "Usage             int64\n",
              "Fitness           int64\n",
              "Income            int64\n",
              "Miles             int64\n",
              "dtype: object"
            ]
          },
          "execution_count": 805,
          "metadata": {},
          "output_type": "execute_result"
        }
      ],
      "source": [
        "data.dtypes"
      ]
    },
    {
      "cell_type": "markdown",
      "id": "68c11b41",
      "metadata": {
        "id": "68c11b41"
      },
      "source": [
        "<font color='purple'>🔍 Insight:  </font>\n",
        "* Dataset has 180 rows and 9 columns\n",
        "* In this dataset, Product, Gender, MaritalStatus are object type and other columns are int type"
      ]
    },
    {
      "cell_type": "code",
      "execution_count": null,
      "id": "a1135139",
      "metadata": {
        "id": "a1135139",
        "outputId": "812c7340-3f48-4b55-d088-985bb49a8bee"
      },
      "outputs": [
        {
          "data": {
            "text/plain": [
              "Product           3\n",
              "Age              32\n",
              "Gender            2\n",
              "Education         8\n",
              "MaritalStatus     2\n",
              "Usage             6\n",
              "Fitness           5\n",
              "Income           62\n",
              "Miles            37\n",
              "dtype: int64"
            ]
          },
          "execution_count": 806,
          "metadata": {},
          "output_type": "execute_result"
        }
      ],
      "source": [
        "data.nunique()"
      ]
    },
    {
      "cell_type": "code",
      "execution_count": null,
      "id": "4a99c790",
      "metadata": {
        "id": "4a99c790",
        "outputId": "15627291-ab68-431e-b0e5-07d1703e7cd6"
      },
      "outputs": [
        {
          "data": {
            "text/plain": [
              "array(['KP281', 'KP481', 'KP781'], dtype=object)"
            ]
          },
          "execution_count": 807,
          "metadata": {},
          "output_type": "execute_result"
        }
      ],
      "source": [
        "data['Product'].unique()"
      ]
    },
    {
      "cell_type": "markdown",
      "id": "61609c89",
      "metadata": {
        "id": "61609c89"
      },
      "source": [
        "* Aerofit data set has 3 unique product types"
      ]
    },
    {
      "cell_type": "code",
      "execution_count": null,
      "id": "54750f1d",
      "metadata": {
        "id": "54750f1d",
        "outputId": "6243150f-5330-4829-da00-d2c71391d211"
      },
      "outputs": [
        {
          "data": {
            "text/plain": [
              "array([18, 19, 20, 21, 22, 23, 24, 25, 26, 27, 28, 29, 30, 31, 32, 33, 34,\n",
              "       35, 36, 37, 38, 39, 40, 41, 43, 44, 46, 47, 50, 45, 48, 42],\n",
              "      dtype=int64)"
            ]
          },
          "execution_count": 808,
          "metadata": {},
          "output_type": "execute_result"
        }
      ],
      "source": [
        "data['Age'].unique()"
      ]
    },
    {
      "cell_type": "markdown",
      "id": "ddf29de4",
      "metadata": {
        "id": "ddf29de4"
      },
      "source": [
        "* Age of threadmill buyers is ranging from 18 to 42"
      ]
    },
    {
      "cell_type": "code",
      "execution_count": null,
      "id": "255e2e16",
      "metadata": {
        "id": "255e2e16",
        "outputId": "08bbcf4a-fcc2-4187-b2a7-3e7c25ee6f28"
      },
      "outputs": [
        {
          "data": {
            "text/plain": [
              "array([14, 15, 12, 13, 16, 18, 20, 21], dtype=int64)"
            ]
          },
          "execution_count": 809,
          "metadata": {},
          "output_type": "execute_result"
        }
      ],
      "source": [
        "data['Education'].unique()"
      ]
    },
    {
      "cell_type": "markdown",
      "id": "934b30db",
      "metadata": {
        "id": "934b30db"
      },
      "source": [
        "* Customer education ranging from 14 to 21"
      ]
    },
    {
      "cell_type": "code",
      "execution_count": null,
      "id": "cdd8e18b",
      "metadata": {
        "id": "cdd8e18b",
        "outputId": "ace6d0ec-bd4e-4865-d638-4bc38575ae25"
      },
      "outputs": [
        {
          "data": {
            "text/plain": [
              "MaritalStatus\n",
              "Partnered    0.594444\n",
              "Single       0.405556\n",
              "Name: proportion, dtype: float64"
            ]
          },
          "execution_count": 810,
          "metadata": {},
          "output_type": "execute_result"
        }
      ],
      "source": [
        "data['MaritalStatus'].value_counts(normalize=True)"
      ]
    },
    {
      "cell_type": "markdown",
      "id": "41a47d71",
      "metadata": {
        "id": "41a47d71"
      },
      "source": [
        "* Partnered threadmill users percentage is 59.4%\n",
        "* Single threadmill users percentage is 40.5%"
      ]
    },
    {
      "cell_type": "code",
      "execution_count": null,
      "id": "9e1a66e5",
      "metadata": {
        "id": "9e1a66e5",
        "outputId": "1cab5839-5d72-40ab-dda6-a8dd4c3a13b4"
      },
      "outputs": [
        {
          "data": {
            "text/plain": [
              "Usage\n",
              "3    0.383333\n",
              "4    0.288889\n",
              "2    0.183333\n",
              "5    0.094444\n",
              "6    0.038889\n",
              "7    0.011111\n",
              "Name: proportion, dtype: float64"
            ]
          },
          "execution_count": 811,
          "metadata": {},
          "output_type": "execute_result"
        }
      ],
      "source": [
        "data['Usage'].value_counts(normalize=True)"
      ]
    },
    {
      "cell_type": "markdown",
      "id": "75bfacfb",
      "metadata": {
        "id": "75bfacfb"
      },
      "source": [
        "* Number of times threadmill usages per week follow patter of 3>4>2>5>6>7"
      ]
    },
    {
      "cell_type": "code",
      "execution_count": null,
      "id": "2dd24eba",
      "metadata": {
        "id": "2dd24eba",
        "outputId": "8d4c8383-73c5-42ff-9211-af620217d4cb"
      },
      "outputs": [
        {
          "data": {
            "text/plain": [
              "Product\n",
              "KP281    0.444444\n",
              "KP481    0.333333\n",
              "KP781    0.222222\n",
              "Name: proportion, dtype: float64"
            ]
          },
          "execution_count": 812,
          "metadata": {},
          "output_type": "execute_result"
        }
      ],
      "source": [
        "data['Product'].value_counts(normalize=True)"
      ]
    },
    {
      "cell_type": "code",
      "execution_count": null,
      "id": "d70041e5",
      "metadata": {
        "id": "d70041e5",
        "outputId": "caeb56d9-024b-49c6-b32b-fb2b3381ca0f"
      },
      "outputs": [
        {
          "data": {
            "text/plain": [
              "Gender\n",
              "Male      0.577778\n",
              "Female    0.422222\n",
              "Name: proportion, dtype: float64"
            ]
          },
          "execution_count": 813,
          "metadata": {},
          "output_type": "execute_result"
        }
      ],
      "source": [
        "data['Gender'].value_counts(normalize=True)"
      ]
    },
    {
      "cell_type": "code",
      "execution_count": null,
      "id": "6a0d4006",
      "metadata": {
        "id": "6a0d4006",
        "outputId": "6de042a6-76d4-4929-f8a0-6afd9a877dca"
      },
      "outputs": [
        {
          "data": {
            "text/plain": [
              "Education\n",
              "16    0.472222\n",
              "14    0.305556\n",
              "18    0.127778\n",
              "15    0.027778\n",
              "13    0.027778\n",
              "12    0.016667\n",
              "21    0.016667\n",
              "20    0.005556\n",
              "Name: proportion, dtype: float64"
            ]
          },
          "execution_count": 814,
          "metadata": {},
          "output_type": "execute_result"
        }
      ],
      "source": [
        "data['Education'].value_counts(normalize=True)"
      ]
    },
    {
      "cell_type": "code",
      "execution_count": null,
      "id": "f08749ca",
      "metadata": {
        "id": "f08749ca",
        "outputId": "2a87607f-3bc1-47ad-f55f-364781b0b7f8"
      },
      "outputs": [
        {
          "data": {
            "text/plain": [
              "Fitness\n",
              "3    0.538889\n",
              "5    0.172222\n",
              "2    0.144444\n",
              "4    0.133333\n",
              "1    0.011111\n",
              "Name: proportion, dtype: float64"
            ]
          },
          "execution_count": 815,
          "metadata": {},
          "output_type": "execute_result"
        }
      ],
      "source": [
        "data['Fitness'].value_counts(normalize=True)"
      ]
    },
    {
      "cell_type": "markdown",
      "id": "54e674c9",
      "metadata": {
        "id": "54e674c9"
      },
      "source": [
        "<font color='purple'>🔍 Insight:</font>  \n",
        "* Product: Data Set has 3 Product KP281, KP481, KP781, where KP281 probabality of selling percentage is more compared to other.  \n",
        "* Gender: Male users are more than the female users(Male=57.7, Female=42.2)  \n",
        "* Eductaion: Customers who has education of 16 are the highest buyers than others\n",
        "* Fitness: People who rated 3 are the most threadmill users   "
      ]
    },
    {
      "cell_type": "code",
      "execution_count": null,
      "id": "58e34db7",
      "metadata": {
        "id": "58e34db7",
        "outputId": "c71dcae3-e96c-4e8a-edaa-1665a95997bb"
      },
      "outputs": [
        {
          "data": {
            "text/plain": [
              "Product          0\n",
              "Age              0\n",
              "Gender           0\n",
              "Education        0\n",
              "MaritalStatus    0\n",
              "Usage            0\n",
              "Fitness          0\n",
              "Income           0\n",
              "Miles            0\n",
              "dtype: int64"
            ]
          },
          "execution_count": 816,
          "metadata": {},
          "output_type": "execute_result"
        }
      ],
      "source": [
        "data.isna().sum()"
      ]
    },
    {
      "cell_type": "markdown",
      "id": "8e24e70a",
      "metadata": {
        "id": "8e24e70a"
      },
      "source": [
        "<font color='purple'>* No missing values present in any of the columns</font>"
      ]
    },
    {
      "cell_type": "markdown",
      "id": "d5ce6806",
      "metadata": {
        "id": "d5ce6806"
      },
      "source": [
        "## <font color='darkblue'>**Visual and Non-Visual Analysis and Outliers detection**</font>"
      ]
    },
    {
      "cell_type": "markdown",
      "id": "2bb1164b",
      "metadata": {
        "id": "2bb1164b"
      },
      "source": [
        "### <font color='teal'>**Univariate Analysis**</font>"
      ]
    },
    {
      "cell_type": "code",
      "execution_count": null,
      "id": "e7564173",
      "metadata": {
        "id": "e7564173",
        "outputId": "d6933519-6de3-4c0d-ed69-9572a340f434"
      },
      "outputs": [
        {
          "data": {
            "text/plain": [
              "Product\n",
              "KP281    80\n",
              "KP481    60\n",
              "KP781    40\n",
              "Name: count, dtype: int64"
            ]
          },
          "execution_count": 817,
          "metadata": {},
          "output_type": "execute_result"
        }
      ],
      "source": [
        "data['Product'].value_counts() #Types of Products in Aerofit"
      ]
    },
    {
      "cell_type": "code",
      "execution_count": null,
      "id": "7daa91eb",
      "metadata": {
        "id": "7daa91eb",
        "outputId": "9ca063bd-b738-4a3d-f912-3643d3c49c65"
      },
      "outputs": [
        {
          "data": {
            "image/png": "[encoded data removed]",
            "text/plain": [
              "<Figure size 640x480 with 1 Axes>"
            ]
          },
          "metadata": {},
          "output_type": "display_data"
        }
      ],
      "source": [
        "sns.countplot(data=data, x='Product', color='orange', width=0.2)\n",
        "plt.show()"
      ]
    },
    {
      "cell_type": "markdown",
      "id": "ec7d945c",
      "metadata": {
        "id": "ec7d945c"
      },
      "source": [
        "📊 Observation:\n",
        "* Number of product KP281 sold is 80\n",
        "* Number of product KP481 sold is 60\n",
        "* Number of product KP781 sold is 40"
      ]
    },
    {
      "cell_type": "code",
      "execution_count": null,
      "id": "9089bb16",
      "metadata": {
        "id": "9089bb16",
        "outputId": "5e30108a-5b46-4d6f-b42d-0ccf7a905ec7"
      },
      "outputs": [
        {
          "data": {
            "text/plain": [
              "MaritalStatus\n",
              "Partnered    107\n",
              "Single        73\n",
              "Name: count, dtype: int64"
            ]
          },
          "execution_count": 819,
          "metadata": {},
          "output_type": "execute_result"
        }
      ],
      "source": [
        "data['MaritalStatus'].value_counts()"
      ]
    },
    {
      "cell_type": "code",
      "execution_count": null,
      "id": "b61c6067",
      "metadata": {
        "id": "b61c6067",
        "outputId": "f6c3844c-691e-4281-e235-2750c5f862be"
      },
      "outputs": [
        {
          "data": {
            "image/png": "[encoded data removed]",
            "text/plain": [
              "<Figure size 640x480 with 1 Axes>"
            ]
          },
          "metadata": {},
          "output_type": "display_data"
        }
      ],
      "source": [
        "sns.countplot(data=data, x='MaritalStatus')\n",
        "plt.show()"
      ]
    },
    {
      "cell_type": "markdown",
      "id": "7c3311c3",
      "metadata": {
        "id": "7c3311c3"
      },
      "source": [
        "📊 Observation:\n",
        "* Number of Partnered customer who purchased are 107\n",
        "* Number of single customer who purchased are 73"
      ]
    },
    {
      "cell_type": "code",
      "execution_count": null,
      "id": "f8438d86",
      "metadata": {
        "id": "f8438d86",
        "outputId": "13d772c0-cf99-4e9f-8cb6-9a5097e23d5f"
      },
      "outputs": [
        {
          "data": {
            "text/plain": [
              "count    180.000000\n",
              "mean      28.788889\n",
              "std        6.943498\n",
              "min       18.000000\n",
              "25%       24.000000\n",
              "50%       26.000000\n",
              "75%       33.000000\n",
              "max       50.000000\n",
              "Name: Age, dtype: float64"
            ]
          },
          "execution_count": 821,
          "metadata": {},
          "output_type": "execute_result"
        }
      ],
      "source": [
        "data['Age'].describe()"
      ]
    },
    {
      "cell_type": "code",
      "execution_count": null,
      "id": "a612e655",
      "metadata": {
        "id": "a612e655",
        "outputId": "9e8d6344-690e-4bdf-e549-bb57a6164b41"
      },
      "outputs": [
        {
          "data": {
            "image/png": "[encoded data removed]",
            "text/plain": [
              "<Figure size 640x480 with 1 Axes>"
            ]
          },
          "metadata": {},
          "output_type": "display_data"
        }
      ],
      "source": [
        "sns.boxplot(x='Age', data=data)\n",
        "plt.show()"
      ]
    },
    {
      "cell_type": "markdown",
      "id": "76335dd5",
      "metadata": {
        "id": "76335dd5"
      },
      "source": [
        "* Median age threadmill users are of the age of 26"
      ]
    },
    {
      "cell_type": "code",
      "execution_count": null,
      "id": "25cdcd46",
      "metadata": {
        "id": "25cdcd46",
        "outputId": "08769752-6418-4690-c87b-02454db4bcb1"
      },
      "outputs": [
        {
          "data": {
            "text/html": [
              "<div>\n",
              "<style scoped>\n",
              "    .dataframe tbody tr th:only-of-type {\n",
              "        vertical-align: middle;\n",
              "    }\n",
              "\n",
              "    .dataframe tbody tr th {\n",
              "        vertical-align: top;\n",
              "    }\n",
              "\n",
              "    .dataframe thead th {\n",
              "        text-align: right;\n",
              "    }\n",
              "</style>\n",
              "<table border=\"1\" class=\"dataframe\">\n",
              "  <thead>\n",
              "    <tr style=\"text-align: right;\">\n",
              "      <th></th>\n",
              "      <th>Product</th>\n",
              "      <th>Age</th>\n",
              "      <th>Gender</th>\n",
              "      <th>Education</th>\n",
              "      <th>MaritalStatus</th>\n",
              "      <th>Usage</th>\n",
              "      <th>Fitness</th>\n",
              "      <th>Income</th>\n",
              "      <th>Miles</th>\n",
              "    </tr>\n",
              "  </thead>\n",
              "  <tbody>\n",
              "    <tr>\n",
              "      <th>78</th>\n",
              "      <td>KP281</td>\n",
              "      <td>47</td>\n",
              "      <td>Male</td>\n",
              "      <td>16</td>\n",
              "      <td>Partnered</td>\n",
              "      <td>4</td>\n",
              "      <td>3</td>\n",
              "      <td>56850</td>\n",
              "      <td>94</td>\n",
              "    </tr>\n",
              "    <tr>\n",
              "      <th>79</th>\n",
              "      <td>KP281</td>\n",
              "      <td>50</td>\n",
              "      <td>Female</td>\n",
              "      <td>16</td>\n",
              "      <td>Partnered</td>\n",
              "      <td>3</td>\n",
              "      <td>3</td>\n",
              "      <td>64809</td>\n",
              "      <td>66</td>\n",
              "    </tr>\n",
              "    <tr>\n",
              "      <th>139</th>\n",
              "      <td>KP481</td>\n",
              "      <td>48</td>\n",
              "      <td>Male</td>\n",
              "      <td>16</td>\n",
              "      <td>Partnered</td>\n",
              "      <td>2</td>\n",
              "      <td>3</td>\n",
              "      <td>57987</td>\n",
              "      <td>64</td>\n",
              "    </tr>\n",
              "    <tr>\n",
              "      <th>178</th>\n",
              "      <td>KP781</td>\n",
              "      <td>47</td>\n",
              "      <td>Male</td>\n",
              "      <td>18</td>\n",
              "      <td>Partnered</td>\n",
              "      <td>4</td>\n",
              "      <td>5</td>\n",
              "      <td>104581</td>\n",
              "      <td>120</td>\n",
              "    </tr>\n",
              "    <tr>\n",
              "      <th>179</th>\n",
              "      <td>KP781</td>\n",
              "      <td>48</td>\n",
              "      <td>Male</td>\n",
              "      <td>18</td>\n",
              "      <td>Partnered</td>\n",
              "      <td>4</td>\n",
              "      <td>5</td>\n",
              "      <td>95508</td>\n",
              "      <td>180</td>\n",
              "    </tr>\n",
              "  </tbody>\n",
              "</table>\n",
              "</div>"
            ],
            "text/plain": [
              "    Product  Age  Gender  Education MaritalStatus  Usage  Fitness  Income  \\\n",
              "78    KP281   47    Male         16     Partnered      4        3   56850   \n",
              "79    KP281   50  Female         16     Partnered      3        3   64809   \n",
              "139   KP481   48    Male         16     Partnered      2        3   57987   \n",
              "178   KP781   47    Male         18     Partnered      4        5  104581   \n",
              "179   KP781   48    Male         18     Partnered      4        5   95508   \n",
              "\n",
              "     Miles  \n",
              "78      94  \n",
              "79      66  \n",
              "139     64  \n",
              "178    120  \n",
              "179    180  "
            ]
          },
          "execution_count": 823,
          "metadata": {},
          "output_type": "execute_result"
        }
      ],
      "source": [
        "# Age column outlier detection\n",
        "\n",
        "age_25 = np.percentile(data['Age'], 25)\n",
        "age_75 = np.percentile(data['Age'], 75)\n",
        "age_iqr = age_75 - age_25\n",
        "age_upper_limit = age_75 + 1.5*age_iqr\n",
        "age_outlier = data[data['Age'] > age_upper_limit]\n",
        "age_outlier\n"
      ]
    },
    {
      "cell_type": "code",
      "execution_count": null,
      "id": "bf947e8c",
      "metadata": {
        "id": "bf947e8c",
        "outputId": "42005eb4-dd38-4454-f07b-07aea3c6fe2b"
      },
      "outputs": [
        {
          "data": {
            "text/plain": [
              "Gender\n",
              "Male      104\n",
              "Female     76\n",
              "Name: count, dtype: int64"
            ]
          },
          "execution_count": 824,
          "metadata": {},
          "output_type": "execute_result"
        }
      ],
      "source": [
        "data['Gender'].value_counts()"
      ]
    },
    {
      "cell_type": "code",
      "execution_count": null,
      "id": "088a2519",
      "metadata": {
        "id": "088a2519",
        "outputId": "588dddc8-0353-4512-c06c-1d900e11f8e4"
      },
      "outputs": [
        {
          "data": {
            "image/png": "[encoded data removed]",
            "text/plain": [
              "<Figure size 640x480 with 1 Axes>"
            ]
          },
          "metadata": {},
          "output_type": "display_data"
        }
      ],
      "source": [
        "sns.countplot(data=data, x='Gender')\n",
        "plt.show()"
      ]
    },
    {
      "cell_type": "markdown",
      "id": "b4554ebe",
      "metadata": {
        "id": "b4554ebe"
      },
      "source": [
        "📊 Majority of the threadmill users are Male"
      ]
    },
    {
      "cell_type": "code",
      "execution_count": null,
      "id": "af2c99f2",
      "metadata": {
        "id": "af2c99f2",
        "outputId": "cf6ab438-3254-4266-cc41-32d5a847b525"
      },
      "outputs": [
        {
          "data": {
            "text/plain": [
              "count    180.000000\n",
              "mean      15.572222\n",
              "std        1.617055\n",
              "min       12.000000\n",
              "25%       14.000000\n",
              "50%       16.000000\n",
              "75%       16.000000\n",
              "max       21.000000\n",
              "Name: Education, dtype: float64"
            ]
          },
          "execution_count": 826,
          "metadata": {},
          "output_type": "execute_result"
        }
      ],
      "source": [
        "data['Education'].describe()"
      ]
    },
    {
      "cell_type": "code",
      "execution_count": null,
      "id": "eda371c4",
      "metadata": {
        "id": "eda371c4",
        "outputId": "4cc6e56d-05f2-45d9-f353-09a5941b279a"
      },
      "outputs": [
        {
          "data": {
            "image/png": "[encoded data removed]",
            "text/plain": [
              "<Figure size 640x480 with 1 Axes>"
            ]
          },
          "metadata": {},
          "output_type": "display_data"
        }
      ],
      "source": [
        "sns.boxplot(x='Education', data=data)\n",
        "plt.show()"
      ]
    },
    {
      "cell_type": "markdown",
      "id": "f99a63a0",
      "metadata": {
        "id": "f99a63a0"
      },
      "source": [
        "* People with the education in between 14 to 16 are the most of the users"
      ]
    },
    {
      "cell_type": "code",
      "execution_count": null,
      "id": "94caa5e7",
      "metadata": {
        "id": "94caa5e7",
        "outputId": "b871fe14-3da5-4fb0-c15e-d9d57ea81d82"
      },
      "outputs": [
        {
          "data": {
            "text/html": [
              "<div>\n",
              "<style scoped>\n",
              "    .dataframe tbody tr th:only-of-type {\n",
              "        vertical-align: middle;\n",
              "    }\n",
              "\n",
              "    .dataframe tbody tr th {\n",
              "        vertical-align: top;\n",
              "    }\n",
              "\n",
              "    .dataframe thead th {\n",
              "        text-align: right;\n",
              "    }\n",
              "</style>\n",
              "<table border=\"1\" class=\"dataframe\">\n",
              "  <thead>\n",
              "    <tr style=\"text-align: right;\">\n",
              "      <th></th>\n",
              "      <th>Product</th>\n",
              "      <th>Age</th>\n",
              "      <th>Gender</th>\n",
              "      <th>Education</th>\n",
              "      <th>MaritalStatus</th>\n",
              "      <th>Usage</th>\n",
              "      <th>Fitness</th>\n",
              "      <th>Income</th>\n",
              "      <th>Miles</th>\n",
              "    </tr>\n",
              "  </thead>\n",
              "  <tbody>\n",
              "    <tr>\n",
              "      <th>156</th>\n",
              "      <td>KP781</td>\n",
              "      <td>25</td>\n",
              "      <td>Male</td>\n",
              "      <td>20</td>\n",
              "      <td>Partnered</td>\n",
              "      <td>4</td>\n",
              "      <td>5</td>\n",
              "      <td>74701</td>\n",
              "      <td>170</td>\n",
              "    </tr>\n",
              "    <tr>\n",
              "      <th>157</th>\n",
              "      <td>KP781</td>\n",
              "      <td>26</td>\n",
              "      <td>Female</td>\n",
              "      <td>21</td>\n",
              "      <td>Single</td>\n",
              "      <td>4</td>\n",
              "      <td>3</td>\n",
              "      <td>69721</td>\n",
              "      <td>100</td>\n",
              "    </tr>\n",
              "    <tr>\n",
              "      <th>161</th>\n",
              "      <td>KP781</td>\n",
              "      <td>27</td>\n",
              "      <td>Male</td>\n",
              "      <td>21</td>\n",
              "      <td>Partnered</td>\n",
              "      <td>4</td>\n",
              "      <td>4</td>\n",
              "      <td>90886</td>\n",
              "      <td>100</td>\n",
              "    </tr>\n",
              "    <tr>\n",
              "      <th>175</th>\n",
              "      <td>KP781</td>\n",
              "      <td>40</td>\n",
              "      <td>Male</td>\n",
              "      <td>21</td>\n",
              "      <td>Single</td>\n",
              "      <td>6</td>\n",
              "      <td>5</td>\n",
              "      <td>83416</td>\n",
              "      <td>200</td>\n",
              "    </tr>\n",
              "  </tbody>\n",
              "</table>\n",
              "</div>"
            ],
            "text/plain": [
              "    Product  Age  Gender  Education MaritalStatus  Usage  Fitness  Income  \\\n",
              "156   KP781   25    Male         20     Partnered      4        5   74701   \n",
              "157   KP781   26  Female         21        Single      4        3   69721   \n",
              "161   KP781   27    Male         21     Partnered      4        4   90886   \n",
              "175   KP781   40    Male         21        Single      6        5   83416   \n",
              "\n",
              "     Miles  \n",
              "156    170  \n",
              "157    100  \n",
              "161    100  \n",
              "175    200  "
            ]
          },
          "execution_count": 828,
          "metadata": {},
          "output_type": "execute_result"
        }
      ],
      "source": [
        "# Education column outlier detection\n",
        "\n",
        "education_25 = np.percentile(data['Education'], 25)\n",
        "education_75 = np.percentile(data['Education'], 75)\n",
        "education_iqr = education_75 - education_25\n",
        "education_upper_limit = education_75 + 1.5*education_iqr\n",
        "education_outlier = data[data['Education'] > education_upper_limit]\n",
        "education_outlier"
      ]
    },
    {
      "cell_type": "code",
      "execution_count": null,
      "id": "5e254aeb",
      "metadata": {
        "id": "5e254aeb",
        "outputId": "00470421-cac3-4375-83d6-7d7abf255c6d"
      },
      "outputs": [
        {
          "data": {
            "text/plain": [
              "count    180.000000\n",
              "mean       3.455556\n",
              "std        1.084797\n",
              "min        2.000000\n",
              "25%        3.000000\n",
              "50%        3.000000\n",
              "75%        4.000000\n",
              "max        7.000000\n",
              "Name: Usage, dtype: float64"
            ]
          },
          "execution_count": 829,
          "metadata": {},
          "output_type": "execute_result"
        }
      ],
      "source": [
        "data['Usage'].describe()"
      ]
    },
    {
      "cell_type": "code",
      "execution_count": null,
      "id": "a940edcd",
      "metadata": {
        "id": "a940edcd",
        "outputId": "0fb13051-44a6-4556-f79d-4f5b376fbdc6"
      },
      "outputs": [
        {
          "data": {
            "image/png": "[encoded data removed]",
            "text/plain": [
              "<Figure size 640x480 with 1 Axes>"
            ]
          },
          "metadata": {},
          "output_type": "display_data"
        }
      ],
      "source": [
        "sns.boxplot(x='Usage', data=data)\n",
        "plt.show()"
      ]
    },
    {
      "cell_type": "markdown",
      "id": "af71f99e",
      "metadata": {
        "id": "af71f99e"
      },
      "source": [
        "* Customers who are using threadmill 3 to 4 times a week are the most of the users"
      ]
    },
    {
      "cell_type": "code",
      "execution_count": null,
      "id": "563f2ed9",
      "metadata": {
        "id": "563f2ed9",
        "outputId": "f5ed9141-ace3-4ac7-ae42-91414cae4bf4"
      },
      "outputs": [
        {
          "data": {
            "text/html": [
              "<div>\n",
              "<style scoped>\n",
              "    .dataframe tbody tr th:only-of-type {\n",
              "        vertical-align: middle;\n",
              "    }\n",
              "\n",
              "    .dataframe tbody tr th {\n",
              "        vertical-align: top;\n",
              "    }\n",
              "\n",
              "    .dataframe thead th {\n",
              "        text-align: right;\n",
              "    }\n",
              "</style>\n",
              "<table border=\"1\" class=\"dataframe\">\n",
              "  <thead>\n",
              "    <tr style=\"text-align: right;\">\n",
              "      <th></th>\n",
              "      <th>Product</th>\n",
              "      <th>Age</th>\n",
              "      <th>Gender</th>\n",
              "      <th>Education</th>\n",
              "      <th>MaritalStatus</th>\n",
              "      <th>Usage</th>\n",
              "      <th>Fitness</th>\n",
              "      <th>Income</th>\n",
              "      <th>Miles</th>\n",
              "    </tr>\n",
              "  </thead>\n",
              "  <tbody>\n",
              "    <tr>\n",
              "      <th>154</th>\n",
              "      <td>KP781</td>\n",
              "      <td>25</td>\n",
              "      <td>Male</td>\n",
              "      <td>18</td>\n",
              "      <td>Partnered</td>\n",
              "      <td>6</td>\n",
              "      <td>4</td>\n",
              "      <td>70966</td>\n",
              "      <td>180</td>\n",
              "    </tr>\n",
              "    <tr>\n",
              "      <th>155</th>\n",
              "      <td>KP781</td>\n",
              "      <td>25</td>\n",
              "      <td>Male</td>\n",
              "      <td>18</td>\n",
              "      <td>Partnered</td>\n",
              "      <td>6</td>\n",
              "      <td>5</td>\n",
              "      <td>75946</td>\n",
              "      <td>240</td>\n",
              "    </tr>\n",
              "    <tr>\n",
              "      <th>162</th>\n",
              "      <td>KP781</td>\n",
              "      <td>28</td>\n",
              "      <td>Female</td>\n",
              "      <td>18</td>\n",
              "      <td>Partnered</td>\n",
              "      <td>6</td>\n",
              "      <td>5</td>\n",
              "      <td>92131</td>\n",
              "      <td>180</td>\n",
              "    </tr>\n",
              "    <tr>\n",
              "      <th>163</th>\n",
              "      <td>KP781</td>\n",
              "      <td>28</td>\n",
              "      <td>Male</td>\n",
              "      <td>18</td>\n",
              "      <td>Partnered</td>\n",
              "      <td>7</td>\n",
              "      <td>5</td>\n",
              "      <td>77191</td>\n",
              "      <td>180</td>\n",
              "    </tr>\n",
              "    <tr>\n",
              "      <th>164</th>\n",
              "      <td>KP781</td>\n",
              "      <td>28</td>\n",
              "      <td>Male</td>\n",
              "      <td>18</td>\n",
              "      <td>Single</td>\n",
              "      <td>6</td>\n",
              "      <td>5</td>\n",
              "      <td>88396</td>\n",
              "      <td>150</td>\n",
              "    </tr>\n",
              "    <tr>\n",
              "      <th>166</th>\n",
              "      <td>KP781</td>\n",
              "      <td>29</td>\n",
              "      <td>Male</td>\n",
              "      <td>14</td>\n",
              "      <td>Partnered</td>\n",
              "      <td>7</td>\n",
              "      <td>5</td>\n",
              "      <td>85906</td>\n",
              "      <td>300</td>\n",
              "    </tr>\n",
              "    <tr>\n",
              "      <th>167</th>\n",
              "      <td>KP781</td>\n",
              "      <td>30</td>\n",
              "      <td>Female</td>\n",
              "      <td>16</td>\n",
              "      <td>Partnered</td>\n",
              "      <td>6</td>\n",
              "      <td>5</td>\n",
              "      <td>90886</td>\n",
              "      <td>280</td>\n",
              "    </tr>\n",
              "    <tr>\n",
              "      <th>170</th>\n",
              "      <td>KP781</td>\n",
              "      <td>31</td>\n",
              "      <td>Male</td>\n",
              "      <td>16</td>\n",
              "      <td>Partnered</td>\n",
              "      <td>6</td>\n",
              "      <td>5</td>\n",
              "      <td>89641</td>\n",
              "      <td>260</td>\n",
              "    </tr>\n",
              "    <tr>\n",
              "      <th>175</th>\n",
              "      <td>KP781</td>\n",
              "      <td>40</td>\n",
              "      <td>Male</td>\n",
              "      <td>21</td>\n",
              "      <td>Single</td>\n",
              "      <td>6</td>\n",
              "      <td>5</td>\n",
              "      <td>83416</td>\n",
              "      <td>200</td>\n",
              "    </tr>\n",
              "  </tbody>\n",
              "</table>\n",
              "</div>"
            ],
            "text/plain": [
              "    Product  Age  Gender  Education MaritalStatus  Usage  Fitness  Income  \\\n",
              "154   KP781   25    Male         18     Partnered      6        4   70966   \n",
              "155   KP781   25    Male         18     Partnered      6        5   75946   \n",
              "162   KP781   28  Female         18     Partnered      6        5   92131   \n",
              "163   KP781   28    Male         18     Partnered      7        5   77191   \n",
              "164   KP781   28    Male         18        Single      6        5   88396   \n",
              "166   KP781   29    Male         14     Partnered      7        5   85906   \n",
              "167   KP781   30  Female         16     Partnered      6        5   90886   \n",
              "170   KP781   31    Male         16     Partnered      6        5   89641   \n",
              "175   KP781   40    Male         21        Single      6        5   83416   \n",
              "\n",
              "     Miles  \n",
              "154    180  \n",
              "155    240  \n",
              "162    180  \n",
              "163    180  \n",
              "164    150  \n",
              "166    300  \n",
              "167    280  \n",
              "170    260  \n",
              "175    200  "
            ]
          },
          "execution_count": 831,
          "metadata": {},
          "output_type": "execute_result"
        }
      ],
      "source": [
        "# Usage column outlier detection\n",
        "\n",
        "usage_25 = np.percentile(data['Usage'], 25)\n",
        "usage_75 = np.percentile(data['Usage'], 75)\n",
        "usage_iqr = usage_75 - usage_25\n",
        "usage_upper_limit = usage_75 + 1.5*usage_iqr\n",
        "usage_outlier = data[data['Usage'] > usage_upper_limit]\n",
        "usage_outlier"
      ]
    },
    {
      "cell_type": "code",
      "execution_count": null,
      "id": "1d96b193",
      "metadata": {
        "id": "1d96b193",
        "outputId": "46cd1cf1-6854-46c5-9685-2f201492a2a5"
      },
      "outputs": [
        {
          "data": {
            "text/plain": [
              "Fitness\n",
              "3    97\n",
              "5    31\n",
              "2    26\n",
              "4    24\n",
              "1     2\n",
              "Name: count, dtype: int64"
            ]
          },
          "execution_count": 832,
          "metadata": {},
          "output_type": "execute_result"
        }
      ],
      "source": [
        "data['Fitness'].value_counts()"
      ]
    },
    {
      "cell_type": "code",
      "execution_count": null,
      "id": "89548316",
      "metadata": {
        "id": "89548316",
        "outputId": "b29ff734-68ab-4319-c7e6-4bd4fefe9f5e"
      },
      "outputs": [
        {
          "data": {
            "image/png": "[encoded data removed]",
            "text/plain": [
              "<Figure size 640x480 with 1 Axes>"
            ]
          },
          "metadata": {},
          "output_type": "display_data"
        }
      ],
      "source": [
        "sns.countplot(x='Fitness', data=data)\n",
        "plt.show()"
      ]
    },
    {
      "cell_type": "markdown",
      "id": "5fdcb309",
      "metadata": {
        "id": "5fdcb309"
      },
      "source": [
        "* Customers who rated 3 as a fitness rating are the most of the buyers"
      ]
    },
    {
      "cell_type": "code",
      "execution_count": null,
      "id": "dea68585",
      "metadata": {
        "id": "dea68585",
        "outputId": "052659ee-0384-4bf7-f2dc-c5af31fa36b4"
      },
      "outputs": [
        {
          "data": {
            "text/plain": [
              "count       180.000000\n",
              "mean      53719.577778\n",
              "std       16506.684226\n",
              "min       29562.000000\n",
              "25%       44058.750000\n",
              "50%       50596.500000\n",
              "75%       58668.000000\n",
              "max      104581.000000\n",
              "Name: Income, dtype: float64"
            ]
          },
          "execution_count": 834,
          "metadata": {},
          "output_type": "execute_result"
        }
      ],
      "source": [
        "data['Income'].describe()"
      ]
    },
    {
      "cell_type": "code",
      "execution_count": null,
      "id": "03c7907d",
      "metadata": {
        "id": "03c7907d",
        "outputId": "8cae79f1-daaa-4256-c93f-69414398f34e"
      },
      "outputs": [
        {
          "data": {
            "image/png": "[encoded data removed]",
            "text/plain": [
              "<Figure size 640x480 with 1 Axes>"
            ]
          },
          "metadata": {},
          "output_type": "display_data"
        }
      ],
      "source": [
        "sns.kdeplot(x='Income', data=data)\n",
        "plt.show()"
      ]
    },
    {
      "cell_type": "code",
      "execution_count": null,
      "id": "6c9d866a",
      "metadata": {
        "id": "6c9d866a",
        "outputId": "3d86b12b-ddbd-4055-991e-08d0b38d3029"
      },
      "outputs": [
        {
          "data": {
            "image/png": "[encoded data removed]",
            "text/plain": [
              "<Figure size 640x480 with 1 Axes>"
            ]
          },
          "metadata": {},
          "output_type": "display_data"
        }
      ],
      "source": [
        "sns.boxplot(x='Income', data=data)\n",
        "plt.show()"
      ]
    },
    {
      "cell_type": "markdown",
      "id": "6608dc77",
      "metadata": {
        "id": "6608dc77"
      },
      "source": [
        "* Customers who is having median income of 50000 are the most of the buyers"
      ]
    },
    {
      "cell_type": "code",
      "execution_count": null,
      "id": "25813ad8",
      "metadata": {
        "id": "25813ad8",
        "outputId": "2f54bf31-9664-4b71-a195-03fb49234278"
      },
      "outputs": [
        {
          "data": {
            "text/html": [
              "<div>\n",
              "<style scoped>\n",
              "    .dataframe tbody tr th:only-of-type {\n",
              "        vertical-align: middle;\n",
              "    }\n",
              "\n",
              "    .dataframe tbody tr th {\n",
              "        vertical-align: top;\n",
              "    }\n",
              "\n",
              "    .dataframe thead th {\n",
              "        text-align: right;\n",
              "    }\n",
              "</style>\n",
              "<table border=\"1\" class=\"dataframe\">\n",
              "  <thead>\n",
              "    <tr style=\"text-align: right;\">\n",
              "      <th></th>\n",
              "      <th>Product</th>\n",
              "      <th>Age</th>\n",
              "      <th>Gender</th>\n",
              "      <th>Education</th>\n",
              "      <th>MaritalStatus</th>\n",
              "      <th>Usage</th>\n",
              "      <th>Fitness</th>\n",
              "      <th>Income</th>\n",
              "      <th>Miles</th>\n",
              "    </tr>\n",
              "  </thead>\n",
              "  <tbody>\n",
              "    <tr>\n",
              "      <th>159</th>\n",
              "      <td>KP781</td>\n",
              "      <td>27</td>\n",
              "      <td>Male</td>\n",
              "      <td>16</td>\n",
              "      <td>Partnered</td>\n",
              "      <td>4</td>\n",
              "      <td>5</td>\n",
              "      <td>83416</td>\n",
              "      <td>160</td>\n",
              "    </tr>\n",
              "    <tr>\n",
              "      <th>160</th>\n",
              "      <td>KP781</td>\n",
              "      <td>27</td>\n",
              "      <td>Male</td>\n",
              "      <td>18</td>\n",
              "      <td>Single</td>\n",
              "      <td>4</td>\n",
              "      <td>3</td>\n",
              "      <td>88396</td>\n",
              "      <td>100</td>\n",
              "    </tr>\n",
              "    <tr>\n",
              "      <th>161</th>\n",
              "      <td>KP781</td>\n",
              "      <td>27</td>\n",
              "      <td>Male</td>\n",
              "      <td>21</td>\n",
              "      <td>Partnered</td>\n",
              "      <td>4</td>\n",
              "      <td>4</td>\n",
              "      <td>90886</td>\n",
              "      <td>100</td>\n",
              "    </tr>\n",
              "    <tr>\n",
              "      <th>162</th>\n",
              "      <td>KP781</td>\n",
              "      <td>28</td>\n",
              "      <td>Female</td>\n",
              "      <td>18</td>\n",
              "      <td>Partnered</td>\n",
              "      <td>6</td>\n",
              "      <td>5</td>\n",
              "      <td>92131</td>\n",
              "      <td>180</td>\n",
              "    </tr>\n",
              "    <tr>\n",
              "      <th>164</th>\n",
              "      <td>KP781</td>\n",
              "      <td>28</td>\n",
              "      <td>Male</td>\n",
              "      <td>18</td>\n",
              "      <td>Single</td>\n",
              "      <td>6</td>\n",
              "      <td>5</td>\n",
              "      <td>88396</td>\n",
              "      <td>150</td>\n",
              "    </tr>\n",
              "    <tr>\n",
              "      <th>166</th>\n",
              "      <td>KP781</td>\n",
              "      <td>29</td>\n",
              "      <td>Male</td>\n",
              "      <td>14</td>\n",
              "      <td>Partnered</td>\n",
              "      <td>7</td>\n",
              "      <td>5</td>\n",
              "      <td>85906</td>\n",
              "      <td>300</td>\n",
              "    </tr>\n",
              "    <tr>\n",
              "      <th>167</th>\n",
              "      <td>KP781</td>\n",
              "      <td>30</td>\n",
              "      <td>Female</td>\n",
              "      <td>16</td>\n",
              "      <td>Partnered</td>\n",
              "      <td>6</td>\n",
              "      <td>5</td>\n",
              "      <td>90886</td>\n",
              "      <td>280</td>\n",
              "    </tr>\n",
              "    <tr>\n",
              "      <th>168</th>\n",
              "      <td>KP781</td>\n",
              "      <td>30</td>\n",
              "      <td>Male</td>\n",
              "      <td>18</td>\n",
              "      <td>Partnered</td>\n",
              "      <td>5</td>\n",
              "      <td>4</td>\n",
              "      <td>103336</td>\n",
              "      <td>160</td>\n",
              "    </tr>\n",
              "    <tr>\n",
              "      <th>169</th>\n",
              "      <td>KP781</td>\n",
              "      <td>30</td>\n",
              "      <td>Male</td>\n",
              "      <td>18</td>\n",
              "      <td>Partnered</td>\n",
              "      <td>5</td>\n",
              "      <td>5</td>\n",
              "      <td>99601</td>\n",
              "      <td>150</td>\n",
              "    </tr>\n",
              "    <tr>\n",
              "      <th>170</th>\n",
              "      <td>KP781</td>\n",
              "      <td>31</td>\n",
              "      <td>Male</td>\n",
              "      <td>16</td>\n",
              "      <td>Partnered</td>\n",
              "      <td>6</td>\n",
              "      <td>5</td>\n",
              "      <td>89641</td>\n",
              "      <td>260</td>\n",
              "    </tr>\n",
              "    <tr>\n",
              "      <th>171</th>\n",
              "      <td>KP781</td>\n",
              "      <td>33</td>\n",
              "      <td>Female</td>\n",
              "      <td>18</td>\n",
              "      <td>Partnered</td>\n",
              "      <td>4</td>\n",
              "      <td>5</td>\n",
              "      <td>95866</td>\n",
              "      <td>200</td>\n",
              "    </tr>\n",
              "    <tr>\n",
              "      <th>172</th>\n",
              "      <td>KP781</td>\n",
              "      <td>34</td>\n",
              "      <td>Male</td>\n",
              "      <td>16</td>\n",
              "      <td>Single</td>\n",
              "      <td>5</td>\n",
              "      <td>5</td>\n",
              "      <td>92131</td>\n",
              "      <td>150</td>\n",
              "    </tr>\n",
              "    <tr>\n",
              "      <th>173</th>\n",
              "      <td>KP781</td>\n",
              "      <td>35</td>\n",
              "      <td>Male</td>\n",
              "      <td>16</td>\n",
              "      <td>Partnered</td>\n",
              "      <td>4</td>\n",
              "      <td>5</td>\n",
              "      <td>92131</td>\n",
              "      <td>360</td>\n",
              "    </tr>\n",
              "    <tr>\n",
              "      <th>174</th>\n",
              "      <td>KP781</td>\n",
              "      <td>38</td>\n",
              "      <td>Male</td>\n",
              "      <td>18</td>\n",
              "      <td>Partnered</td>\n",
              "      <td>5</td>\n",
              "      <td>5</td>\n",
              "      <td>104581</td>\n",
              "      <td>150</td>\n",
              "    </tr>\n",
              "    <tr>\n",
              "      <th>175</th>\n",
              "      <td>KP781</td>\n",
              "      <td>40</td>\n",
              "      <td>Male</td>\n",
              "      <td>21</td>\n",
              "      <td>Single</td>\n",
              "      <td>6</td>\n",
              "      <td>5</td>\n",
              "      <td>83416</td>\n",
              "      <td>200</td>\n",
              "    </tr>\n",
              "    <tr>\n",
              "      <th>176</th>\n",
              "      <td>KP781</td>\n",
              "      <td>42</td>\n",
              "      <td>Male</td>\n",
              "      <td>18</td>\n",
              "      <td>Single</td>\n",
              "      <td>5</td>\n",
              "      <td>4</td>\n",
              "      <td>89641</td>\n",
              "      <td>200</td>\n",
              "    </tr>\n",
              "    <tr>\n",
              "      <th>177</th>\n",
              "      <td>KP781</td>\n",
              "      <td>45</td>\n",
              "      <td>Male</td>\n",
              "      <td>16</td>\n",
              "      <td>Single</td>\n",
              "      <td>5</td>\n",
              "      <td>5</td>\n",
              "      <td>90886</td>\n",
              "      <td>160</td>\n",
              "    </tr>\n",
              "    <tr>\n",
              "      <th>178</th>\n",
              "      <td>KP781</td>\n",
              "      <td>47</td>\n",
              "      <td>Male</td>\n",
              "      <td>18</td>\n",
              "      <td>Partnered</td>\n",
              "      <td>4</td>\n",
              "      <td>5</td>\n",
              "      <td>104581</td>\n",
              "      <td>120</td>\n",
              "    </tr>\n",
              "    <tr>\n",
              "      <th>179</th>\n",
              "      <td>KP781</td>\n",
              "      <td>48</td>\n",
              "      <td>Male</td>\n",
              "      <td>18</td>\n",
              "      <td>Partnered</td>\n",
              "      <td>4</td>\n",
              "      <td>5</td>\n",
              "      <td>95508</td>\n",
              "      <td>180</td>\n",
              "    </tr>\n",
              "  </tbody>\n",
              "</table>\n",
              "</div>"
            ],
            "text/plain": [
              "    Product  Age  Gender  Education MaritalStatus  Usage  Fitness  Income  \\\n",
              "159   KP781   27    Male         16     Partnered      4        5   83416   \n",
              "160   KP781   27    Male         18        Single      4        3   88396   \n",
              "161   KP781   27    Male         21     Partnered      4        4   90886   \n",
              "162   KP781   28  Female         18     Partnered      6        5   92131   \n",
              "164   KP781   28    Male         18        Single      6        5   88396   \n",
              "166   KP781   29    Male         14     Partnered      7        5   85906   \n",
              "167   KP781   30  Female         16     Partnered      6        5   90886   \n",
              "168   KP781   30    Male         18     Partnered      5        4  103336   \n",
              "169   KP781   30    Male         18     Partnered      5        5   99601   \n",
              "170   KP781   31    Male         16     Partnered      6        5   89641   \n",
              "171   KP781   33  Female         18     Partnered      4        5   95866   \n",
              "172   KP781   34    Male         16        Single      5        5   92131   \n",
              "173   KP781   35    Male         16     Partnered      4        5   92131   \n",
              "174   KP781   38    Male         18     Partnered      5        5  104581   \n",
              "175   KP781   40    Male         21        Single      6        5   83416   \n",
              "176   KP781   42    Male         18        Single      5        4   89641   \n",
              "177   KP781   45    Male         16        Single      5        5   90886   \n",
              "178   KP781   47    Male         18     Partnered      4        5  104581   \n",
              "179   KP781   48    Male         18     Partnered      4        5   95508   \n",
              "\n",
              "     Miles  \n",
              "159    160  \n",
              "160    100  \n",
              "161    100  \n",
              "162    180  \n",
              "164    150  \n",
              "166    300  \n",
              "167    280  \n",
              "168    160  \n",
              "169    150  \n",
              "170    260  \n",
              "171    200  \n",
              "172    150  \n",
              "173    360  \n",
              "174    150  \n",
              "175    200  \n",
              "176    200  \n",
              "177    160  \n",
              "178    120  \n",
              "179    180  "
            ]
          },
          "execution_count": 837,
          "metadata": {},
          "output_type": "execute_result"
        }
      ],
      "source": [
        "# Income column outlier detection\n",
        "\n",
        "income_25 = np.percentile(data['Income'], 25)\n",
        "income_75 = np.percentile(data['Income'], 75)\n",
        "income_iqr = income_75 - income_25\n",
        "income_upper_limit = income_75 + 1.5*income_iqr\n",
        "income_outlier = data[data['Income'] > income_upper_limit]\n",
        "income_outlier"
      ]
    },
    {
      "cell_type": "code",
      "execution_count": null,
      "id": "20e9cc24",
      "metadata": {
        "id": "20e9cc24",
        "outputId": "e9c3d078-ea43-4a0a-ffc0-98b98e01b696"
      },
      "outputs": [
        {
          "data": {
            "text/plain": [
              "count    180.000000\n",
              "mean     103.194444\n",
              "std       51.863605\n",
              "min       21.000000\n",
              "25%       66.000000\n",
              "50%       94.000000\n",
              "75%      114.750000\n",
              "max      360.000000\n",
              "Name: Miles, dtype: float64"
            ]
          },
          "execution_count": 838,
          "metadata": {},
          "output_type": "execute_result"
        }
      ],
      "source": [
        "data['Miles'].describe()"
      ]
    },
    {
      "cell_type": "code",
      "execution_count": null,
      "id": "ad2e6aed",
      "metadata": {
        "id": "ad2e6aed",
        "outputId": "586a1051-cb67-4aed-c8bc-fdded5659f51"
      },
      "outputs": [
        {
          "data": {
            "image/png": "[encoded data removed]",
            "text/plain": [
              "<Figure size 640x480 with 1 Axes>"
            ]
          },
          "metadata": {},
          "output_type": "display_data"
        }
      ],
      "source": [
        "sns.boxplot(x='Miles', data=data)\n",
        "plt.show()"
      ]
    },
    {
      "cell_type": "markdown",
      "id": "0d6f0103",
      "metadata": {
        "id": "0d6f0103"
      },
      "source": [
        "* Customers who is daily walk/run of 66 to 114 miles are the majority of the buyers"
      ]
    },
    {
      "cell_type": "code",
      "execution_count": null,
      "id": "7709a525",
      "metadata": {
        "id": "7709a525",
        "outputId": "62f4d148-1b2e-4d3d-c650-cceed59729c1"
      },
      "outputs": [
        {
          "data": {
            "text/html": [
              "<div>\n",
              "<style scoped>\n",
              "    .dataframe tbody tr th:only-of-type {\n",
              "        vertical-align: middle;\n",
              "    }\n",
              "\n",
              "    .dataframe tbody tr th {\n",
              "        vertical-align: top;\n",
              "    }\n",
              "\n",
              "    .dataframe thead th {\n",
              "        text-align: right;\n",
              "    }\n",
              "</style>\n",
              "<table border=\"1\" class=\"dataframe\">\n",
              "  <thead>\n",
              "    <tr style=\"text-align: right;\">\n",
              "      <th></th>\n",
              "      <th>Product</th>\n",
              "      <th>Age</th>\n",
              "      <th>Gender</th>\n",
              "      <th>Education</th>\n",
              "      <th>MaritalStatus</th>\n",
              "      <th>Usage</th>\n",
              "      <th>Fitness</th>\n",
              "      <th>Income</th>\n",
              "      <th>Miles</th>\n",
              "    </tr>\n",
              "  </thead>\n",
              "  <tbody>\n",
              "    <tr>\n",
              "      <th>23</th>\n",
              "      <td>KP281</td>\n",
              "      <td>24</td>\n",
              "      <td>Female</td>\n",
              "      <td>16</td>\n",
              "      <td>Partnered</td>\n",
              "      <td>5</td>\n",
              "      <td>5</td>\n",
              "      <td>44343</td>\n",
              "      <td>188</td>\n",
              "    </tr>\n",
              "    <tr>\n",
              "      <th>84</th>\n",
              "      <td>KP481</td>\n",
              "      <td>21</td>\n",
              "      <td>Female</td>\n",
              "      <td>14</td>\n",
              "      <td>Partnered</td>\n",
              "      <td>5</td>\n",
              "      <td>4</td>\n",
              "      <td>34110</td>\n",
              "      <td>212</td>\n",
              "    </tr>\n",
              "    <tr>\n",
              "      <th>142</th>\n",
              "      <td>KP781</td>\n",
              "      <td>22</td>\n",
              "      <td>Male</td>\n",
              "      <td>18</td>\n",
              "      <td>Single</td>\n",
              "      <td>4</td>\n",
              "      <td>5</td>\n",
              "      <td>48556</td>\n",
              "      <td>200</td>\n",
              "    </tr>\n",
              "    <tr>\n",
              "      <th>148</th>\n",
              "      <td>KP781</td>\n",
              "      <td>24</td>\n",
              "      <td>Female</td>\n",
              "      <td>16</td>\n",
              "      <td>Single</td>\n",
              "      <td>5</td>\n",
              "      <td>5</td>\n",
              "      <td>52291</td>\n",
              "      <td>200</td>\n",
              "    </tr>\n",
              "    <tr>\n",
              "      <th>152</th>\n",
              "      <td>KP781</td>\n",
              "      <td>25</td>\n",
              "      <td>Female</td>\n",
              "      <td>18</td>\n",
              "      <td>Partnered</td>\n",
              "      <td>5</td>\n",
              "      <td>5</td>\n",
              "      <td>61006</td>\n",
              "      <td>200</td>\n",
              "    </tr>\n",
              "    <tr>\n",
              "      <th>155</th>\n",
              "      <td>KP781</td>\n",
              "      <td>25</td>\n",
              "      <td>Male</td>\n",
              "      <td>18</td>\n",
              "      <td>Partnered</td>\n",
              "      <td>6</td>\n",
              "      <td>5</td>\n",
              "      <td>75946</td>\n",
              "      <td>240</td>\n",
              "    </tr>\n",
              "    <tr>\n",
              "      <th>166</th>\n",
              "      <td>KP781</td>\n",
              "      <td>29</td>\n",
              "      <td>Male</td>\n",
              "      <td>14</td>\n",
              "      <td>Partnered</td>\n",
              "      <td>7</td>\n",
              "      <td>5</td>\n",
              "      <td>85906</td>\n",
              "      <td>300</td>\n",
              "    </tr>\n",
              "    <tr>\n",
              "      <th>167</th>\n",
              "      <td>KP781</td>\n",
              "      <td>30</td>\n",
              "      <td>Female</td>\n",
              "      <td>16</td>\n",
              "      <td>Partnered</td>\n",
              "      <td>6</td>\n",
              "      <td>5</td>\n",
              "      <td>90886</td>\n",
              "      <td>280</td>\n",
              "    </tr>\n",
              "    <tr>\n",
              "      <th>170</th>\n",
              "      <td>KP781</td>\n",
              "      <td>31</td>\n",
              "      <td>Male</td>\n",
              "      <td>16</td>\n",
              "      <td>Partnered</td>\n",
              "      <td>6</td>\n",
              "      <td>5</td>\n",
              "      <td>89641</td>\n",
              "      <td>260</td>\n",
              "    </tr>\n",
              "    <tr>\n",
              "      <th>171</th>\n",
              "      <td>KP781</td>\n",
              "      <td>33</td>\n",
              "      <td>Female</td>\n",
              "      <td>18</td>\n",
              "      <td>Partnered</td>\n",
              "      <td>4</td>\n",
              "      <td>5</td>\n",
              "      <td>95866</td>\n",
              "      <td>200</td>\n",
              "    </tr>\n",
              "    <tr>\n",
              "      <th>173</th>\n",
              "      <td>KP781</td>\n",
              "      <td>35</td>\n",
              "      <td>Male</td>\n",
              "      <td>16</td>\n",
              "      <td>Partnered</td>\n",
              "      <td>4</td>\n",
              "      <td>5</td>\n",
              "      <td>92131</td>\n",
              "      <td>360</td>\n",
              "    </tr>\n",
              "    <tr>\n",
              "      <th>175</th>\n",
              "      <td>KP781</td>\n",
              "      <td>40</td>\n",
              "      <td>Male</td>\n",
              "      <td>21</td>\n",
              "      <td>Single</td>\n",
              "      <td>6</td>\n",
              "      <td>5</td>\n",
              "      <td>83416</td>\n",
              "      <td>200</td>\n",
              "    </tr>\n",
              "    <tr>\n",
              "      <th>176</th>\n",
              "      <td>KP781</td>\n",
              "      <td>42</td>\n",
              "      <td>Male</td>\n",
              "      <td>18</td>\n",
              "      <td>Single</td>\n",
              "      <td>5</td>\n",
              "      <td>4</td>\n",
              "      <td>89641</td>\n",
              "      <td>200</td>\n",
              "    </tr>\n",
              "  </tbody>\n",
              "</table>\n",
              "</div>"
            ],
            "text/plain": [
              "    Product  Age  Gender  Education MaritalStatus  Usage  Fitness  Income  \\\n",
              "23    KP281   24  Female         16     Partnered      5        5   44343   \n",
              "84    KP481   21  Female         14     Partnered      5        4   34110   \n",
              "142   KP781   22    Male         18        Single      4        5   48556   \n",
              "148   KP781   24  Female         16        Single      5        5   52291   \n",
              "152   KP781   25  Female         18     Partnered      5        5   61006   \n",
              "155   KP781   25    Male         18     Partnered      6        5   75946   \n",
              "166   KP781   29    Male         14     Partnered      7        5   85906   \n",
              "167   KP781   30  Female         16     Partnered      6        5   90886   \n",
              "170   KP781   31    Male         16     Partnered      6        5   89641   \n",
              "171   KP781   33  Female         18     Partnered      4        5   95866   \n",
              "173   KP781   35    Male         16     Partnered      4        5   92131   \n",
              "175   KP781   40    Male         21        Single      6        5   83416   \n",
              "176   KP781   42    Male         18        Single      5        4   89641   \n",
              "\n",
              "     Miles  \n",
              "23     188  \n",
              "84     212  \n",
              "142    200  \n",
              "148    200  \n",
              "152    200  \n",
              "155    240  \n",
              "166    300  \n",
              "167    280  \n",
              "170    260  \n",
              "171    200  \n",
              "173    360  \n",
              "175    200  \n",
              "176    200  "
            ]
          },
          "execution_count": 840,
          "metadata": {},
          "output_type": "execute_result"
        }
      ],
      "source": [
        "# Miles column outlier detection\n",
        "\n",
        "miles_25 = np.percentile(data['Miles'], 25)\n",
        "miles_75 = np.percentile(data['Miles'], 75)\n",
        "miles_iqr = miles_75 - miles_25\n",
        "miles_upper_limit = miles_75 + 1.5*miles_iqr\n",
        "miles_outlier = data[data['Miles'] > miles_upper_limit]\n",
        "miles_outlier"
      ]
    },
    {
      "cell_type": "code",
      "execution_count": null,
      "id": "338f6763",
      "metadata": {
        "id": "338f6763",
        "outputId": "382137fb-e707-400b-ea78-7eb2c1e02503"
      },
      "outputs": [
        {
          "data": {
            "text/html": [
              "<div>\n",
              "<style scoped>\n",
              "    .dataframe tbody tr th:only-of-type {\n",
              "        vertical-align: middle;\n",
              "    }\n",
              "\n",
              "    .dataframe tbody tr th {\n",
              "        vertical-align: top;\n",
              "    }\n",
              "\n",
              "    .dataframe thead th {\n",
              "        text-align: right;\n",
              "    }\n",
              "</style>\n",
              "<table border=\"1\" class=\"dataframe\">\n",
              "  <thead>\n",
              "    <tr style=\"text-align: right;\">\n",
              "      <th></th>\n",
              "      <th>Product</th>\n",
              "      <th>Age</th>\n",
              "      <th>Gender</th>\n",
              "      <th>Education</th>\n",
              "      <th>MaritalStatus</th>\n",
              "      <th>Usage</th>\n",
              "      <th>Fitness</th>\n",
              "      <th>Income</th>\n",
              "      <th>Miles</th>\n",
              "    </tr>\n",
              "  </thead>\n",
              "  <tbody>\n",
              "    <tr>\n",
              "      <th>0</th>\n",
              "      <td>KP281</td>\n",
              "      <td>20.00</td>\n",
              "      <td>Male</td>\n",
              "      <td>14</td>\n",
              "      <td>Single</td>\n",
              "      <td>3.00</td>\n",
              "      <td>4</td>\n",
              "      <td>34053.15</td>\n",
              "      <td>112</td>\n",
              "    </tr>\n",
              "    <tr>\n",
              "      <th>1</th>\n",
              "      <td>KP281</td>\n",
              "      <td>20.00</td>\n",
              "      <td>Male</td>\n",
              "      <td>15</td>\n",
              "      <td>Single</td>\n",
              "      <td>2.00</td>\n",
              "      <td>3</td>\n",
              "      <td>34053.15</td>\n",
              "      <td>75</td>\n",
              "    </tr>\n",
              "    <tr>\n",
              "      <th>2</th>\n",
              "      <td>KP281</td>\n",
              "      <td>20.00</td>\n",
              "      <td>Female</td>\n",
              "      <td>14</td>\n",
              "      <td>Partnered</td>\n",
              "      <td>4.00</td>\n",
              "      <td>3</td>\n",
              "      <td>34053.15</td>\n",
              "      <td>66</td>\n",
              "    </tr>\n",
              "    <tr>\n",
              "      <th>3</th>\n",
              "      <td>KP281</td>\n",
              "      <td>20.00</td>\n",
              "      <td>Male</td>\n",
              "      <td>14</td>\n",
              "      <td>Single</td>\n",
              "      <td>3.00</td>\n",
              "      <td>3</td>\n",
              "      <td>34053.15</td>\n",
              "      <td>85</td>\n",
              "    </tr>\n",
              "    <tr>\n",
              "      <th>4</th>\n",
              "      <td>KP281</td>\n",
              "      <td>20.00</td>\n",
              "      <td>Male</td>\n",
              "      <td>14</td>\n",
              "      <td>Partnered</td>\n",
              "      <td>4.00</td>\n",
              "      <td>2</td>\n",
              "      <td>35247.00</td>\n",
              "      <td>47</td>\n",
              "    </tr>\n",
              "    <tr>\n",
              "      <th>...</th>\n",
              "      <td>...</td>\n",
              "      <td>...</td>\n",
              "      <td>...</td>\n",
              "      <td>...</td>\n",
              "      <td>...</td>\n",
              "      <td>...</td>\n",
              "      <td>...</td>\n",
              "      <td>...</td>\n",
              "      <td>...</td>\n",
              "    </tr>\n",
              "    <tr>\n",
              "      <th>175</th>\n",
              "      <td>KP781</td>\n",
              "      <td>40.00</td>\n",
              "      <td>Male</td>\n",
              "      <td>18</td>\n",
              "      <td>Single</td>\n",
              "      <td>5.05</td>\n",
              "      <td>5</td>\n",
              "      <td>83416.00</td>\n",
              "      <td>200</td>\n",
              "    </tr>\n",
              "    <tr>\n",
              "      <th>176</th>\n",
              "      <td>KP781</td>\n",
              "      <td>42.00</td>\n",
              "      <td>Male</td>\n",
              "      <td>18</td>\n",
              "      <td>Single</td>\n",
              "      <td>5.00</td>\n",
              "      <td>4</td>\n",
              "      <td>89641.00</td>\n",
              "      <td>200</td>\n",
              "    </tr>\n",
              "    <tr>\n",
              "      <th>177</th>\n",
              "      <td>KP781</td>\n",
              "      <td>43.05</td>\n",
              "      <td>Male</td>\n",
              "      <td>16</td>\n",
              "      <td>Single</td>\n",
              "      <td>5.00</td>\n",
              "      <td>5</td>\n",
              "      <td>90886.00</td>\n",
              "      <td>160</td>\n",
              "    </tr>\n",
              "    <tr>\n",
              "      <th>178</th>\n",
              "      <td>KP781</td>\n",
              "      <td>43.05</td>\n",
              "      <td>Male</td>\n",
              "      <td>18</td>\n",
              "      <td>Partnered</td>\n",
              "      <td>4.00</td>\n",
              "      <td>5</td>\n",
              "      <td>90948.25</td>\n",
              "      <td>120</td>\n",
              "    </tr>\n",
              "    <tr>\n",
              "      <th>179</th>\n",
              "      <td>KP781</td>\n",
              "      <td>43.05</td>\n",
              "      <td>Male</td>\n",
              "      <td>18</td>\n",
              "      <td>Partnered</td>\n",
              "      <td>4.00</td>\n",
              "      <td>5</td>\n",
              "      <td>90948.25</td>\n",
              "      <td>180</td>\n",
              "    </tr>\n",
              "  </tbody>\n",
              "</table>\n",
              "<p>180 rows × 9 columns</p>\n",
              "</div>"
            ],
            "text/plain": [
              "    Product    Age  Gender  Education MaritalStatus  Usage  Fitness    Income  \\\n",
              "0     KP281  20.00    Male         14        Single   3.00        4  34053.15   \n",
              "1     KP281  20.00    Male         15        Single   2.00        3  34053.15   \n",
              "2     KP281  20.00  Female         14     Partnered   4.00        3  34053.15   \n",
              "3     KP281  20.00    Male         14        Single   3.00        3  34053.15   \n",
              "4     KP281  20.00    Male         14     Partnered   4.00        2  35247.00   \n",
              "..      ...    ...     ...        ...           ...    ...      ...       ...   \n",
              "175   KP781  40.00    Male         18        Single   5.05        5  83416.00   \n",
              "176   KP781  42.00    Male         18        Single   5.00        4  89641.00   \n",
              "177   KP781  43.05    Male         16        Single   5.00        5  90886.00   \n",
              "178   KP781  43.05    Male         18     Partnered   4.00        5  90948.25   \n",
              "179   KP781  43.05    Male         18     Partnered   4.00        5  90948.25   \n",
              "\n",
              "     Miles  \n",
              "0      112  \n",
              "1       75  \n",
              "2       66  \n",
              "3       85  \n",
              "4       47  \n",
              "..     ...  \n",
              "175    200  \n",
              "176    200  \n",
              "177    160  \n",
              "178    120  \n",
              "179    180  \n",
              "\n",
              "[180 rows x 9 columns]"
            ]
          },
          "execution_count": 841,
          "metadata": {},
          "output_type": "execute_result"
        }
      ],
      "source": [
        "# Cliping below 0.05 and above 0.95 outliers\n",
        "\n",
        "continuous_cols = ['Age', 'Education', 'Usage', 'Income', 'Fitness', 'Miles']\n",
        "\n",
        "\n",
        "for i, col in enumerate(continuous_cols):\n",
        "    lower = data[col].quantile(0.05)\n",
        "    upper = data[col].quantile(0.95)\n",
        "    data[col] = np.clip(data[col], lower, upper)\n",
        "data"
      ]
    },
    {
      "cell_type": "markdown",
      "id": "6ef03d40",
      "metadata": {
        "id": "6ef03d40"
      },
      "source": [
        "### <font color='teal'>**Bi-Varaite Analysis**</font>"
      ]
    },
    {
      "cell_type": "code",
      "execution_count": null,
      "id": "82bb8d89",
      "metadata": {
        "id": "82bb8d89",
        "outputId": "8002b752-8d62-4f5a-ac3d-dbdd7228f076"
      },
      "outputs": [
        {
          "data": {
            "text/html": [
              "<div>\n",
              "<style scoped>\n",
              "    .dataframe tbody tr th:only-of-type {\n",
              "        vertical-align: middle;\n",
              "    }\n",
              "\n",
              "    .dataframe tbody tr th {\n",
              "        vertical-align: top;\n",
              "    }\n",
              "\n",
              "    .dataframe thead th {\n",
              "        text-align: right;\n",
              "    }\n",
              "</style>\n",
              "<table border=\"1\" class=\"dataframe\">\n",
              "  <thead>\n",
              "    <tr style=\"text-align: right;\">\n",
              "      <th></th>\n",
              "      <th>Product</th>\n",
              "      <th>Age</th>\n",
              "      <th>Gender</th>\n",
              "      <th>Education</th>\n",
              "      <th>MaritalStatus</th>\n",
              "      <th>Usage</th>\n",
              "      <th>Fitness</th>\n",
              "      <th>Income</th>\n",
              "      <th>Miles</th>\n",
              "    </tr>\n",
              "  </thead>\n",
              "  <tbody>\n",
              "    <tr>\n",
              "      <th>0</th>\n",
              "      <td>KP281</td>\n",
              "      <td>20.0</td>\n",
              "      <td>Male</td>\n",
              "      <td>14</td>\n",
              "      <td>Single</td>\n",
              "      <td>3.0</td>\n",
              "      <td>4</td>\n",
              "      <td>34053.15</td>\n",
              "      <td>112</td>\n",
              "    </tr>\n",
              "    <tr>\n",
              "      <th>1</th>\n",
              "      <td>KP281</td>\n",
              "      <td>20.0</td>\n",
              "      <td>Male</td>\n",
              "      <td>15</td>\n",
              "      <td>Single</td>\n",
              "      <td>2.0</td>\n",
              "      <td>3</td>\n",
              "      <td>34053.15</td>\n",
              "      <td>75</td>\n",
              "    </tr>\n",
              "    <tr>\n",
              "      <th>2</th>\n",
              "      <td>KP281</td>\n",
              "      <td>20.0</td>\n",
              "      <td>Female</td>\n",
              "      <td>14</td>\n",
              "      <td>Partnered</td>\n",
              "      <td>4.0</td>\n",
              "      <td>3</td>\n",
              "      <td>34053.15</td>\n",
              "      <td>66</td>\n",
              "    </tr>\n",
              "    <tr>\n",
              "      <th>3</th>\n",
              "      <td>KP281</td>\n",
              "      <td>20.0</td>\n",
              "      <td>Male</td>\n",
              "      <td>14</td>\n",
              "      <td>Single</td>\n",
              "      <td>3.0</td>\n",
              "      <td>3</td>\n",
              "      <td>34053.15</td>\n",
              "      <td>85</td>\n",
              "    </tr>\n",
              "    <tr>\n",
              "      <th>4</th>\n",
              "      <td>KP281</td>\n",
              "      <td>20.0</td>\n",
              "      <td>Male</td>\n",
              "      <td>14</td>\n",
              "      <td>Partnered</td>\n",
              "      <td>4.0</td>\n",
              "      <td>2</td>\n",
              "      <td>35247.00</td>\n",
              "      <td>47</td>\n",
              "    </tr>\n",
              "  </tbody>\n",
              "</table>\n",
              "</div>"
            ],
            "text/plain": [
              "  Product   Age  Gender  Education MaritalStatus  Usage  Fitness    Income  \\\n",
              "0   KP281  20.0    Male         14        Single    3.0        4  34053.15   \n",
              "1   KP281  20.0    Male         15        Single    2.0        3  34053.15   \n",
              "2   KP281  20.0  Female         14     Partnered    4.0        3  34053.15   \n",
              "3   KP281  20.0    Male         14        Single    3.0        3  34053.15   \n",
              "4   KP281  20.0    Male         14     Partnered    4.0        2  35247.00   \n",
              "\n",
              "   Miles  \n",
              "0    112  \n",
              "1     75  \n",
              "2     66  \n",
              "3     85  \n",
              "4     47  "
            ]
          },
          "execution_count": 842,
          "metadata": {},
          "output_type": "execute_result"
        }
      ],
      "source": [
        "data.head()"
      ]
    },
    {
      "cell_type": "code",
      "execution_count": null,
      "id": "a11a7cf5",
      "metadata": {
        "id": "a11a7cf5",
        "outputId": "a748609b-36ad-4daf-8c74-0867b9a14239"
      },
      "outputs": [
        {
          "data": {
            "image/png": "[encoded data removed]",
            "text/plain": [
              "<Figure size 640x480 with 1 Axes>"
            ]
          },
          "metadata": {},
          "output_type": "display_data"
        }
      ],
      "source": [
        "sns.countplot(x='Product', hue='MaritalStatus', data=data, palette='pastel')\n",
        "plt.show()"
      ]
    },
    {
      "cell_type": "markdown",
      "id": "cd8379d3",
      "metadata": {
        "id": "cd8379d3"
      },
      "source": [
        "* 📊 Graph shows that Partnered customers have high demand on the threadmill and most likely to buy KP281"
      ]
    },
    {
      "cell_type": "code",
      "execution_count": null,
      "id": "791300fb",
      "metadata": {
        "id": "791300fb",
        "outputId": "3f761c5e-ae22-4b84-a97b-9e8f8ab72a05"
      },
      "outputs": [
        {
          "data": {
            "image/png": "[encoded data removed]",
            "text/plain": [
              "<Figure size 640x480 with 1 Axes>"
            ]
          },
          "metadata": {},
          "output_type": "display_data"
        }
      ],
      "source": [
        "sns.countplot(x='Product', hue='Gender', data=data)\n",
        "plt.show()"
      ]
    },
    {
      "cell_type": "markdown",
      "id": "7dd8fcb6",
      "metadata": {
        "id": "7dd8fcb6"
      },
      "source": [
        "* 📊 Female customers are least likely to buy KP781 product and it is recommended that they may like KP281 and KP481"
      ]
    },
    {
      "cell_type": "code",
      "execution_count": null,
      "id": "aeb2bf2d",
      "metadata": {
        "id": "aeb2bf2d",
        "outputId": "bc2bc732-30e7-435d-b7aa-2393e000fcfe"
      },
      "outputs": [
        {
          "data": {
            "image/png": "[encoded data removed]",
            "text/plain": [
              "<Figure size 1500x1200 with 5 Axes>"
            ]
          },
          "metadata": {},
          "output_type": "display_data"
        }
      ],
      "source": [
        "continuous_cols = ['Age', 'Income', 'Fitness', 'Usage', 'Miles']\n",
        "\n",
        "plt.figure(figsize=(15, 12))\n",
        "for i, col in enumerate(continuous_cols):\n",
        "    plt.subplot(3, 2, i+1)\n",
        "    sns.boxplot(data=data, x='Product', y=col, hue='Product')\n",
        "    plt.title(f'{col} distribution across Products')\n",
        "plt.tight_layout()\n",
        "plt.show()"
      ]
    },
    {
      "cell_type": "markdown",
      "id": "aa6355df",
      "metadata": {
        "id": "aa6355df"
      },
      "source": [
        "🔍 Insight:\n",
        "* Average customer Age of all the 2 products are = 26\n",
        "* Customers who is purchase KP781 are the more income buyers\n",
        "* Average fitness rating of KP281 and KP481 buyers are 3 and KP781 are higher than other two\n",
        "* Usage per week for KP281 is 3-4, KP481 is 3 and KP781 are 4-5\n",
        "* Avgerage walk/run Miles/week of KP281 is around 65 to 90, KP481 is around 65 to 110 and KP781 is 120 to 190"
      ]
    },
    {
      "cell_type": "code",
      "execution_count": null,
      "id": "50ee53da",
      "metadata": {
        "id": "50ee53da",
        "outputId": "f06d8e28-333c-4f2f-96d5-831fe11b45f9"
      },
      "outputs": [
        {
          "data": {
            "text/html": [
              "<div>\n",
              "<style scoped>\n",
              "    .dataframe tbody tr th:only-of-type {\n",
              "        vertical-align: middle;\n",
              "    }\n",
              "\n",
              "    .dataframe tbody tr th {\n",
              "        vertical-align: top;\n",
              "    }\n",
              "\n",
              "    .dataframe thead th {\n",
              "        text-align: right;\n",
              "    }\n",
              "</style>\n",
              "<table border=\"1\" class=\"dataframe\">\n",
              "  <thead>\n",
              "    <tr style=\"text-align: right;\">\n",
              "      <th></th>\n",
              "      <th>Product</th>\n",
              "      <th>Age</th>\n",
              "      <th>Gender</th>\n",
              "      <th>Education</th>\n",
              "      <th>MaritalStatus</th>\n",
              "      <th>Usage</th>\n",
              "      <th>Fitness</th>\n",
              "      <th>Income</th>\n",
              "      <th>Miles</th>\n",
              "    </tr>\n",
              "  </thead>\n",
              "  <tbody>\n",
              "    <tr>\n",
              "      <th>0</th>\n",
              "      <td>KP281</td>\n",
              "      <td>20.0</td>\n",
              "      <td>Male</td>\n",
              "      <td>14</td>\n",
              "      <td>Single</td>\n",
              "      <td>3.0</td>\n",
              "      <td>4</td>\n",
              "      <td>34053.15</td>\n",
              "      <td>112</td>\n",
              "    </tr>\n",
              "    <tr>\n",
              "      <th>1</th>\n",
              "      <td>KP281</td>\n",
              "      <td>20.0</td>\n",
              "      <td>Male</td>\n",
              "      <td>15</td>\n",
              "      <td>Single</td>\n",
              "      <td>2.0</td>\n",
              "      <td>3</td>\n",
              "      <td>34053.15</td>\n",
              "      <td>75</td>\n",
              "    </tr>\n",
              "    <tr>\n",
              "      <th>2</th>\n",
              "      <td>KP281</td>\n",
              "      <td>20.0</td>\n",
              "      <td>Female</td>\n",
              "      <td>14</td>\n",
              "      <td>Partnered</td>\n",
              "      <td>4.0</td>\n",
              "      <td>3</td>\n",
              "      <td>34053.15</td>\n",
              "      <td>66</td>\n",
              "    </tr>\n",
              "    <tr>\n",
              "      <th>3</th>\n",
              "      <td>KP281</td>\n",
              "      <td>20.0</td>\n",
              "      <td>Male</td>\n",
              "      <td>14</td>\n",
              "      <td>Single</td>\n",
              "      <td>3.0</td>\n",
              "      <td>3</td>\n",
              "      <td>34053.15</td>\n",
              "      <td>85</td>\n",
              "    </tr>\n",
              "    <tr>\n",
              "      <th>4</th>\n",
              "      <td>KP281</td>\n",
              "      <td>20.0</td>\n",
              "      <td>Male</td>\n",
              "      <td>14</td>\n",
              "      <td>Partnered</td>\n",
              "      <td>4.0</td>\n",
              "      <td>2</td>\n",
              "      <td>35247.00</td>\n",
              "      <td>47</td>\n",
              "    </tr>\n",
              "  </tbody>\n",
              "</table>\n",
              "</div>"
            ],
            "text/plain": [
              "  Product   Age  Gender  Education MaritalStatus  Usage  Fitness    Income  \\\n",
              "0   KP281  20.0    Male         14        Single    3.0        4  34053.15   \n",
              "1   KP281  20.0    Male         15        Single    2.0        3  34053.15   \n",
              "2   KP281  20.0  Female         14     Partnered    4.0        3  34053.15   \n",
              "3   KP281  20.0    Male         14        Single    3.0        3  34053.15   \n",
              "4   KP281  20.0    Male         14     Partnered    4.0        2  35247.00   \n",
              "\n",
              "   Miles  \n",
              "0    112  \n",
              "1     75  \n",
              "2     66  \n",
              "3     85  \n",
              "4     47  "
            ]
          },
          "execution_count": 846,
          "metadata": {},
          "output_type": "execute_result"
        }
      ],
      "source": [
        "data.head()"
      ]
    },
    {
      "cell_type": "code",
      "execution_count": null,
      "id": "74b37646",
      "metadata": {
        "id": "74b37646",
        "outputId": "a68ca27d-730d-4782-c0f6-4646f4a5eec7"
      },
      "outputs": [
        {
          "data": {
            "image/png": "[encoded data removed]",
            "text/plain": [
              "<Figure size 640x480 with 1 Axes>"
            ]
          },
          "metadata": {},
          "output_type": "display_data"
        }
      ],
      "source": [
        "sns.kdeplot(x='Age', hue= 'Gender', data=data)\n",
        "plt.show()"
      ]
    },
    {
      "cell_type": "markdown",
      "id": "b6faec39",
      "metadata": {
        "id": "b6faec39"
      },
      "source": [
        "**📊 Observation:**  \n",
        "* Male customers with the age of 20 to 35 years are the most threadmill users  "
      ]
    },
    {
      "cell_type": "code",
      "execution_count": null,
      "id": "bf95c205",
      "metadata": {
        "id": "bf95c205",
        "outputId": "4e7e5a85-86ce-4c9f-bce9-0aa418499e3b"
      },
      "outputs": [
        {
          "data": {
            "image/png": "[encoded data removed]",
            "text/plain": [
              "<Figure size 640x480 with 1 Axes>"
            ]
          },
          "metadata": {},
          "output_type": "display_data"
        }
      ],
      "source": [
        "sns.kdeplot(x='Age', hue= 'MaritalStatus', data=data)\n",
        "plt.show()"
      ]
    },
    {
      "cell_type": "markdown",
      "id": "b51a46ad",
      "metadata": {
        "id": "b51a46ad"
      },
      "source": [
        "**📊 Observations:-**\n",
        "* Partnered users with the age of 20 to 30 years are the most users purchased threadmill"
      ]
    },
    {
      "cell_type": "code",
      "execution_count": null,
      "id": "f16871bd",
      "metadata": {
        "id": "f16871bd",
        "outputId": "31fb0443-0194-4a9a-838d-3e321cb2253b"
      },
      "outputs": [
        {
          "data": {
            "text/plain": [
              "<Axes: xlabel='Age', ylabel='Density'>"
            ]
          },
          "execution_count": 849,
          "metadata": {},
          "output_type": "execute_result"
        },
        {
          "data": {
            "image/png": "[encoded data removed]",
            "text/plain": [
              "<Figure size 640x480 with 1 Axes>"
            ]
          },
          "metadata": {},
          "output_type": "display_data"
        }
      ],
      "source": [
        "sns.kdeplot(data=data, x='Age',  hue='Fitness')"
      ]
    },
    {
      "cell_type": "markdown",
      "id": "5b2b4211",
      "metadata": {
        "id": "5b2b4211"
      },
      "source": [
        "* Most of the users are 3 rated as fitness rating users"
      ]
    },
    {
      "cell_type": "code",
      "execution_count": null,
      "id": "b21f6b93",
      "metadata": {
        "id": "b21f6b93",
        "outputId": "14f2c085-64ba-4296-c450-d1b011e18654"
      },
      "outputs": [
        {
          "data": {
            "image/png": "[encoded data removed]",
            "text/plain": [
              "<Figure size 640x480 with 1 Axes>"
            ]
          },
          "metadata": {},
          "output_type": "display_data"
        }
      ],
      "source": [
        "sns.boxplot(x=\"Gender\", y=\"Miles\", hue=\"Product\", data=data)\n",
        "plt.show()"
      ]
    },
    {
      "cell_type": "markdown",
      "id": "15a84ebe",
      "metadata": {
        "id": "15a84ebe"
      },
      "source": [
        "* Miles/Week has impact on product purchase on KP781, would suggest if they walk morethan 120miles/week"
      ]
    },
    {
      "cell_type": "code",
      "execution_count": null,
      "id": "85d7c35d",
      "metadata": {
        "id": "85d7c35d",
        "outputId": "15abc123-5c80-44d5-8940-f1ff27f75aff"
      },
      "outputs": [
        {
          "data": {
            "image/png": "[encoded data removed]",
            "text/plain": [
              "<Figure size 640x480 with 1 Axes>"
            ]
          },
          "metadata": {},
          "output_type": "display_data"
        }
      ],
      "source": [
        "sns.boxplot(x=\"Gender\", y=\"Income\", hue=\"Product\", data=data)\n",
        "plt.show()"
      ]
    },
    {
      "cell_type": "markdown",
      "id": "fafa8604",
      "metadata": {
        "id": "fafa8604"
      },
      "source": [
        "* Income has positive effect on Product purchase and we can see from the above with greater income customer would like to choose KP781"
      ]
    },
    {
      "cell_type": "markdown",
      "id": "662975d5",
      "metadata": {
        "id": "662975d5"
      },
      "source": [
        "## <font color='darkblue'>**Probabilistic Insight🔍:**</font>"
      ]
    },
    {
      "cell_type": "code",
      "execution_count": null,
      "id": "72c830c9",
      "metadata": {
        "id": "72c830c9",
        "outputId": "f5e44fd6-9703-43f4-a8e9-e9379b649987"
      },
      "outputs": [
        {
          "data": {
            "text/html": [
              "<div>\n",
              "<style scoped>\n",
              "    .dataframe tbody tr th:only-of-type {\n",
              "        vertical-align: middle;\n",
              "    }\n",
              "\n",
              "    .dataframe tbody tr th {\n",
              "        vertical-align: top;\n",
              "    }\n",
              "\n",
              "    .dataframe thead th {\n",
              "        text-align: right;\n",
              "    }\n",
              "</style>\n",
              "<table border=\"1\" class=\"dataframe\">\n",
              "  <thead>\n",
              "    <tr style=\"text-align: right;\">\n",
              "      <th></th>\n",
              "      <th>Product</th>\n",
              "      <th>Age</th>\n",
              "      <th>Gender</th>\n",
              "      <th>Education</th>\n",
              "      <th>MaritalStatus</th>\n",
              "      <th>Usage</th>\n",
              "      <th>Fitness</th>\n",
              "      <th>Income</th>\n",
              "      <th>Miles</th>\n",
              "    </tr>\n",
              "  </thead>\n",
              "  <tbody>\n",
              "    <tr>\n",
              "      <th>0</th>\n",
              "      <td>KP281</td>\n",
              "      <td>20.0</td>\n",
              "      <td>Male</td>\n",
              "      <td>14</td>\n",
              "      <td>Single</td>\n",
              "      <td>3.0</td>\n",
              "      <td>4</td>\n",
              "      <td>34053.15</td>\n",
              "      <td>112</td>\n",
              "    </tr>\n",
              "    <tr>\n",
              "      <th>1</th>\n",
              "      <td>KP281</td>\n",
              "      <td>20.0</td>\n",
              "      <td>Male</td>\n",
              "      <td>15</td>\n",
              "      <td>Single</td>\n",
              "      <td>2.0</td>\n",
              "      <td>3</td>\n",
              "      <td>34053.15</td>\n",
              "      <td>75</td>\n",
              "    </tr>\n",
              "    <tr>\n",
              "      <th>2</th>\n",
              "      <td>KP281</td>\n",
              "      <td>20.0</td>\n",
              "      <td>Female</td>\n",
              "      <td>14</td>\n",
              "      <td>Partnered</td>\n",
              "      <td>4.0</td>\n",
              "      <td>3</td>\n",
              "      <td>34053.15</td>\n",
              "      <td>66</td>\n",
              "    </tr>\n",
              "    <tr>\n",
              "      <th>3</th>\n",
              "      <td>KP281</td>\n",
              "      <td>20.0</td>\n",
              "      <td>Male</td>\n",
              "      <td>14</td>\n",
              "      <td>Single</td>\n",
              "      <td>3.0</td>\n",
              "      <td>3</td>\n",
              "      <td>34053.15</td>\n",
              "      <td>85</td>\n",
              "    </tr>\n",
              "    <tr>\n",
              "      <th>4</th>\n",
              "      <td>KP281</td>\n",
              "      <td>20.0</td>\n",
              "      <td>Male</td>\n",
              "      <td>14</td>\n",
              "      <td>Partnered</td>\n",
              "      <td>4.0</td>\n",
              "      <td>2</td>\n",
              "      <td>35247.00</td>\n",
              "      <td>47</td>\n",
              "    </tr>\n",
              "  </tbody>\n",
              "</table>\n",
              "</div>"
            ],
            "text/plain": [
              "  Product   Age  Gender  Education MaritalStatus  Usage  Fitness    Income  \\\n",
              "0   KP281  20.0    Male         14        Single    3.0        4  34053.15   \n",
              "1   KP281  20.0    Male         15        Single    2.0        3  34053.15   \n",
              "2   KP281  20.0  Female         14     Partnered    4.0        3  34053.15   \n",
              "3   KP281  20.0    Male         14        Single    3.0        3  34053.15   \n",
              "4   KP281  20.0    Male         14     Partnered    4.0        2  35247.00   \n",
              "\n",
              "   Miles  \n",
              "0    112  \n",
              "1     75  \n",
              "2     66  \n",
              "3     85  \n",
              "4     47  "
            ]
          },
          "execution_count": 852,
          "metadata": {},
          "output_type": "execute_result"
        }
      ],
      "source": [
        "data.head()"
      ]
    },
    {
      "cell_type": "code",
      "execution_count": null,
      "id": "5de074d8",
      "metadata": {
        "id": "5de074d8",
        "outputId": "b66bd499-5d92-4318-fa89-fab25b4f3e75"
      },
      "outputs": [
        {
          "data": {
            "text/html": [
              "<div>\n",
              "<style scoped>\n",
              "    .dataframe tbody tr th:only-of-type {\n",
              "        vertical-align: middle;\n",
              "    }\n",
              "\n",
              "    .dataframe tbody tr th {\n",
              "        vertical-align: top;\n",
              "    }\n",
              "\n",
              "    .dataframe thead th {\n",
              "        text-align: right;\n",
              "    }\n",
              "</style>\n",
              "<table border=\"1\" class=\"dataframe\">\n",
              "  <thead>\n",
              "    <tr style=\"text-align: right;\">\n",
              "      <th>Product</th>\n",
              "      <th>KP281</th>\n",
              "      <th>KP481</th>\n",
              "      <th>KP781</th>\n",
              "    </tr>\n",
              "    <tr>\n",
              "      <th>Gender</th>\n",
              "      <th></th>\n",
              "      <th></th>\n",
              "      <th></th>\n",
              "    </tr>\n",
              "  </thead>\n",
              "  <tbody>\n",
              "    <tr>\n",
              "      <th>Female</th>\n",
              "      <td>52.631579</td>\n",
              "      <td>38.157895</td>\n",
              "      <td>9.210526</td>\n",
              "    </tr>\n",
              "    <tr>\n",
              "      <th>Male</th>\n",
              "      <td>38.461538</td>\n",
              "      <td>29.807692</td>\n",
              "      <td>31.730769</td>\n",
              "    </tr>\n",
              "    <tr>\n",
              "      <th>All</th>\n",
              "      <td>44.444444</td>\n",
              "      <td>33.333333</td>\n",
              "      <td>22.222222</td>\n",
              "    </tr>\n",
              "  </tbody>\n",
              "</table>\n",
              "</div>"
            ],
            "text/plain": [
              "Product      KP281      KP481      KP781\n",
              "Gender                                  \n",
              "Female   52.631579  38.157895   9.210526\n",
              "Male     38.461538  29.807692  31.730769\n",
              "All      44.444444  33.333333  22.222222"
            ]
          },
          "execution_count": 853,
          "metadata": {},
          "output_type": "execute_result"
        }
      ],
      "source": [
        "pd.crosstab(index=data['Gender'], columns=data['Product'], margins=True, normalize=\"index\") * 100"
      ]
    },
    {
      "cell_type": "code",
      "execution_count": null,
      "id": "fc007970",
      "metadata": {
        "id": "fc007970",
        "outputId": "b70cec75-e7d9-4b7f-d077-bfca097ee557"
      },
      "outputs": [
        {
          "data": {
            "text/html": [
              "<div>\n",
              "<style scoped>\n",
              "    .dataframe tbody tr th:only-of-type {\n",
              "        vertical-align: middle;\n",
              "    }\n",
              "\n",
              "    .dataframe tbody tr th {\n",
              "        vertical-align: top;\n",
              "    }\n",
              "\n",
              "    .dataframe thead th {\n",
              "        text-align: right;\n",
              "    }\n",
              "</style>\n",
              "<table border=\"1\" class=\"dataframe\">\n",
              "  <thead>\n",
              "    <tr style=\"text-align: right;\">\n",
              "      <th>Product</th>\n",
              "      <th>KP281</th>\n",
              "      <th>KP481</th>\n",
              "      <th>KP781</th>\n",
              "      <th>All</th>\n",
              "    </tr>\n",
              "    <tr>\n",
              "      <th>Gender</th>\n",
              "      <th></th>\n",
              "      <th></th>\n",
              "      <th></th>\n",
              "      <th></th>\n",
              "    </tr>\n",
              "  </thead>\n",
              "  <tbody>\n",
              "    <tr>\n",
              "      <th>Female</th>\n",
              "      <td>40</td>\n",
              "      <td>29</td>\n",
              "      <td>7</td>\n",
              "      <td>76</td>\n",
              "    </tr>\n",
              "    <tr>\n",
              "      <th>Male</th>\n",
              "      <td>40</td>\n",
              "      <td>31</td>\n",
              "      <td>33</td>\n",
              "      <td>104</td>\n",
              "    </tr>\n",
              "    <tr>\n",
              "      <th>All</th>\n",
              "      <td>80</td>\n",
              "      <td>60</td>\n",
              "      <td>40</td>\n",
              "      <td>180</td>\n",
              "    </tr>\n",
              "  </tbody>\n",
              "</table>\n",
              "</div>"
            ],
            "text/plain": [
              "Product  KP281  KP481  KP781  All\n",
              "Gender                           \n",
              "Female      40     29      7   76\n",
              "Male        40     31     33  104\n",
              "All         80     60     40  180"
            ]
          },
          "execution_count": 854,
          "metadata": {},
          "output_type": "execute_result"
        }
      ],
      "source": [
        "pd.crosstab(index=data['Gender'], columns=data['Product'], margins=True)"
      ]
    },
    {
      "cell_type": "markdown",
      "id": "10dd0db0",
      "metadata": {
        "id": "10dd0db0"
      },
      "source": [
        "#### <font color='teal'>**Marginal probabilities**</font>"
      ]
    },
    {
      "cell_type": "code",
      "execution_count": null,
      "id": "93dccab8",
      "metadata": {
        "id": "93dccab8",
        "outputId": "679136cf-3f35-48a5-dbef-389e11dca280"
      },
      "outputs": [
        {
          "data": {
            "text/plain": [
              "44.44444444444444"
            ]
          },
          "execution_count": 855,
          "metadata": {},
          "output_type": "execute_result"
        }
      ],
      "source": [
        "#KP281\n",
        "\n",
        "(80/180)*100"
      ]
    },
    {
      "cell_type": "code",
      "execution_count": null,
      "id": "a4413deb",
      "metadata": {
        "id": "a4413deb",
        "outputId": "873c2e88-632c-44a2-f29d-67d867e806eb"
      },
      "outputs": [
        {
          "data": {
            "text/plain": [
              "33.33333333333333"
            ]
          },
          "execution_count": 856,
          "metadata": {},
          "output_type": "execute_result"
        }
      ],
      "source": [
        "#KP481\n",
        "\n",
        "(60/180)*100"
      ]
    },
    {
      "cell_type": "code",
      "execution_count": null,
      "id": "bf237e3f",
      "metadata": {
        "id": "bf237e3f",
        "outputId": "3b552ade-e1b9-4e0e-815c-8855c71dbbef"
      },
      "outputs": [
        {
          "data": {
            "text/plain": [
              "22.22222222222222"
            ]
          },
          "execution_count": 857,
          "metadata": {},
          "output_type": "execute_result"
        }
      ],
      "source": [
        "#KP781\n",
        "\n",
        "(40/180)*100"
      ]
    },
    {
      "cell_type": "markdown",
      "id": "c02806c3",
      "metadata": {
        "id": "c02806c3"
      },
      "source": [
        "**Observations:**\n",
        "* Probabality of customer buying KP281 product is 44.4%\n",
        "* Probabality of customer buying KP481 product is 33.3%\n",
        "* Probabality of customer buying KP781 product is 22.2%"
      ]
    },
    {
      "cell_type": "code",
      "execution_count": null,
      "id": "a6bb7fa5",
      "metadata": {
        "id": "a6bb7fa5",
        "outputId": "d9996c67-ad32-46f9-d506-26b4daeeeaef"
      },
      "outputs": [
        {
          "data": {
            "text/plain": [
              "Product\n",
              "KP281    0.444444\n",
              "KP481    0.333333\n",
              "KP781    0.222222\n",
              "Name: proportion, dtype: float64"
            ]
          },
          "execution_count": 858,
          "metadata": {},
          "output_type": "execute_result"
        }
      ],
      "source": [
        "data['Product'].value_counts(normalize=True)"
      ]
    },
    {
      "cell_type": "code",
      "execution_count": null,
      "id": "08645c0e",
      "metadata": {
        "id": "08645c0e",
        "outputId": "26872aff-8bc0-4414-8b01-64ccae20cba1"
      },
      "outputs": [
        {
          "data": {
            "text/plain": [
              "Gender\n",
              "Male      0.577778\n",
              "Female    0.422222\n",
              "Name: proportion, dtype: float64"
            ]
          },
          "execution_count": 859,
          "metadata": {},
          "output_type": "execute_result"
        }
      ],
      "source": [
        "data['Gender'].value_counts(normalize=True)"
      ]
    },
    {
      "cell_type": "code",
      "execution_count": null,
      "id": "01bbfc0b",
      "metadata": {
        "id": "01bbfc0b",
        "outputId": "7a564e40-d6f5-4dbb-c470-736de1dd1340"
      },
      "outputs": [
        {
          "data": {
            "text/plain": [
              "MaritalStatus\n",
              "Partnered    0.594444\n",
              "Single       0.405556\n",
              "Name: proportion, dtype: float64"
            ]
          },
          "execution_count": 860,
          "metadata": {},
          "output_type": "execute_result"
        }
      ],
      "source": [
        "data['MaritalStatus'].value_counts(normalize=True)"
      ]
    },
    {
      "cell_type": "markdown",
      "id": "b92bee1b",
      "metadata": {
        "id": "b92bee1b"
      },
      "source": [
        "#### <font color='teal'>**Conditional probabilities**</font>"
      ]
    },
    {
      "cell_type": "code",
      "execution_count": null,
      "id": "aaf47cf4",
      "metadata": {
        "id": "aaf47cf4",
        "outputId": "69fbf4d6-996c-402d-fe20-3a78fc41142c"
      },
      "outputs": [
        {
          "data": {
            "text/html": [
              "<div>\n",
              "<style scoped>\n",
              "    .dataframe tbody tr th:only-of-type {\n",
              "        vertical-align: middle;\n",
              "    }\n",
              "\n",
              "    .dataframe tbody tr th {\n",
              "        vertical-align: top;\n",
              "    }\n",
              "\n",
              "    .dataframe thead th {\n",
              "        text-align: right;\n",
              "    }\n",
              "</style>\n",
              "<table border=\"1\" class=\"dataframe\">\n",
              "  <thead>\n",
              "    <tr style=\"text-align: right;\">\n",
              "      <th>Product</th>\n",
              "      <th>KP281</th>\n",
              "      <th>KP481</th>\n",
              "      <th>KP781</th>\n",
              "      <th>All</th>\n",
              "    </tr>\n",
              "    <tr>\n",
              "      <th>Gender</th>\n",
              "      <th></th>\n",
              "      <th></th>\n",
              "      <th></th>\n",
              "      <th></th>\n",
              "    </tr>\n",
              "  </thead>\n",
              "  <tbody>\n",
              "    <tr>\n",
              "      <th>Female</th>\n",
              "      <td>40</td>\n",
              "      <td>29</td>\n",
              "      <td>7</td>\n",
              "      <td>76</td>\n",
              "    </tr>\n",
              "    <tr>\n",
              "      <th>Male</th>\n",
              "      <td>40</td>\n",
              "      <td>31</td>\n",
              "      <td>33</td>\n",
              "      <td>104</td>\n",
              "    </tr>\n",
              "    <tr>\n",
              "      <th>All</th>\n",
              "      <td>80</td>\n",
              "      <td>60</td>\n",
              "      <td>40</td>\n",
              "      <td>180</td>\n",
              "    </tr>\n",
              "  </tbody>\n",
              "</table>\n",
              "</div>"
            ],
            "text/plain": [
              "Product  KP281  KP481  KP781  All\n",
              "Gender                           \n",
              "Female      40     29      7   76\n",
              "Male        40     31     33  104\n",
              "All         80     60     40  180"
            ]
          },
          "execution_count": 861,
          "metadata": {},
          "output_type": "execute_result"
        }
      ],
      "source": [
        "pd.crosstab(index=data['Gender'], columns=data['Product'], margins=True)"
      ]
    },
    {
      "cell_type": "code",
      "execution_count": null,
      "id": "3f803088",
      "metadata": {
        "id": "3f803088",
        "outputId": "8bd7027f-0fb3-4bc0-9061-150b31e97ec0"
      },
      "outputs": [
        {
          "data": {
            "text/plain": [
              "38.46153846153847"
            ]
          },
          "execution_count": 862,
          "metadata": {},
          "output_type": "execute_result"
        }
      ],
      "source": [
        "# Probabality of purchasing KP281 given that customer is Male (KP281|Male)\n",
        "\n",
        "(40/104)*100"
      ]
    },
    {
      "cell_type": "code",
      "execution_count": null,
      "id": "4b30454e",
      "metadata": {
        "id": "4b30454e",
        "outputId": "78c9cb43-0289-4ba4-8349-ac1f1ed54c91"
      },
      "outputs": [
        {
          "data": {
            "text/plain": [
              "29.807692307692307"
            ]
          },
          "execution_count": 863,
          "metadata": {},
          "output_type": "execute_result"
        }
      ],
      "source": [
        "# Probabality of purchasing KP481 given that customer is Male (KP481|Male)\n",
        "\n",
        "(31/104)*100"
      ]
    },
    {
      "cell_type": "code",
      "execution_count": null,
      "id": "cc8554b7",
      "metadata": {
        "id": "cc8554b7",
        "outputId": "60b86d7e-9f7d-40ae-91a4-de6e8aae5e7a"
      },
      "outputs": [
        {
          "data": {
            "text/plain": [
              "31.73076923076923"
            ]
          },
          "execution_count": 864,
          "metadata": {},
          "output_type": "execute_result"
        }
      ],
      "source": [
        "# Probabality of purchasing KP781 given that customer is Male (KP781|Male)\n",
        "\n",
        "(33/104)*100"
      ]
    },
    {
      "cell_type": "code",
      "execution_count": null,
      "id": "4b02eeda",
      "metadata": {
        "id": "4b02eeda",
        "outputId": "da086169-3cf0-4d0d-aa49-633c497aa247"
      },
      "outputs": [
        {
          "data": {
            "text/plain": [
              "52.63157894736842"
            ]
          },
          "execution_count": 865,
          "metadata": {},
          "output_type": "execute_result"
        }
      ],
      "source": [
        "# Probabality of purchasing KP281 given that customer is Female (KP281|Female)\n",
        "\n",
        "(40/76)*100"
      ]
    },
    {
      "cell_type": "code",
      "execution_count": null,
      "id": "5ac4e1c2",
      "metadata": {
        "id": "5ac4e1c2",
        "outputId": "3b6f07a2-6f71-4233-80f3-e2b2e523b525"
      },
      "outputs": [
        {
          "data": {
            "text/plain": [
              "38.15789473684211"
            ]
          },
          "execution_count": 866,
          "metadata": {},
          "output_type": "execute_result"
        }
      ],
      "source": [
        "# Probabality of purchasing KP481 given that customer is Female (KP481|Female)\n",
        "\n",
        "(29/76)*100"
      ]
    },
    {
      "cell_type": "code",
      "execution_count": null,
      "id": "cb225d96",
      "metadata": {
        "id": "cb225d96",
        "outputId": "77502aea-6a6c-482e-d7fd-7d5ce93e987e"
      },
      "outputs": [
        {
          "data": {
            "text/plain": [
              "9.210526315789473"
            ]
          },
          "execution_count": 867,
          "metadata": {},
          "output_type": "execute_result"
        }
      ],
      "source": [
        "# Probabality of purchasing KP781 given that customer is Female (KP781|Female)\n",
        "\n",
        "(7/76)*100"
      ]
    },
    {
      "cell_type": "code",
      "execution_count": null,
      "id": "281a49d4",
      "metadata": {
        "id": "281a49d4",
        "outputId": "f7693511-abf2-43ef-80b2-dc0caa23e817"
      },
      "outputs": [
        {
          "data": {
            "text/plain": [
              "50.0"
            ]
          },
          "execution_count": 868,
          "metadata": {},
          "output_type": "execute_result"
        }
      ],
      "source": [
        "# Probabality that Male customer purchases product, give that KP281 shown (Male|KP281)\n",
        "\n",
        "(40/80)*100"
      ]
    },
    {
      "cell_type": "code",
      "execution_count": null,
      "id": "ba19b710",
      "metadata": {
        "id": "ba19b710",
        "outputId": "7ec711a9-2b1d-4f89-fc36-60e659631c6c"
      },
      "outputs": [
        {
          "data": {
            "text/plain": [
              "51.66666666666667"
            ]
          },
          "execution_count": 869,
          "metadata": {},
          "output_type": "execute_result"
        }
      ],
      "source": [
        "# Probabality that Male customer purchases product, give that KP481 shown (Male|KP481)\n",
        "\n",
        "(31/60)*100"
      ]
    },
    {
      "cell_type": "code",
      "execution_count": null,
      "id": "3a57ff84",
      "metadata": {
        "id": "3a57ff84",
        "outputId": "2a08863b-1ca2-49f1-f28c-c3d0a977398c"
      },
      "outputs": [
        {
          "data": {
            "text/plain": [
              "82.5"
            ]
          },
          "execution_count": 870,
          "metadata": {},
          "output_type": "execute_result"
        }
      ],
      "source": [
        "# Probabality that Male customer purchases product, give that KP781 shown (Male|KP781)\n",
        "\n",
        "(33/40)*100"
      ]
    },
    {
      "cell_type": "code",
      "execution_count": null,
      "id": "4adc7a16",
      "metadata": {
        "id": "4adc7a16",
        "outputId": "2ba1b9ff-c359-43ad-8e1e-8a3b51adac84"
      },
      "outputs": [
        {
          "data": {
            "text/plain": [
              "50.0"
            ]
          },
          "execution_count": 871,
          "metadata": {},
          "output_type": "execute_result"
        }
      ],
      "source": [
        "# Probabality that Female customer purchases product, give that KP281 shown (Female|KP281)\n",
        "\n",
        "(40/80)*100"
      ]
    },
    {
      "cell_type": "code",
      "execution_count": null,
      "id": "53bf9aec",
      "metadata": {
        "id": "53bf9aec",
        "outputId": "0e009b00-add2-4f61-aaf0-50092627bdce"
      },
      "outputs": [
        {
          "data": {
            "text/plain": [
              "48.333333333333336"
            ]
          },
          "execution_count": 872,
          "metadata": {},
          "output_type": "execute_result"
        }
      ],
      "source": [
        "# Probabality that Female customer purchases product, give that KP481 shown (Female|KP481)\n",
        "\n",
        "(29/60)*100"
      ]
    },
    {
      "cell_type": "code",
      "execution_count": null,
      "id": "5fef50ee",
      "metadata": {
        "id": "5fef50ee",
        "outputId": "8c7bcf27-5143-4bbb-c643-8cbce9ce0627"
      },
      "outputs": [
        {
          "data": {
            "text/plain": [
              "17.5"
            ]
          },
          "execution_count": 873,
          "metadata": {},
          "output_type": "execute_result"
        }
      ],
      "source": [
        "# Probabality that Female customer purchases product, give that KP781 shown (Female|KP781)\n",
        "\n",
        "(7/40)*100"
      ]
    },
    {
      "cell_type": "markdown",
      "id": "5962e742",
      "metadata": {
        "id": "5962e742"
      },
      "source": [
        "**🔍 Insight:**  \n",
        "* Probabality of purchasing KP281 given that customer is Male (KP281|Male)=38.46\n",
        "* Probabality of purchasing KP481 given that customer is Male (KP481|Male)=29.80\n",
        "* Probabality of purchasing KP781 given that customer is Male (KP781|Male)=31.73\n",
        "* Probabality of purchasing KP281 given that customer is Female (KP281|Female)=52.63\n",
        "* Probabality of purchasing KP481 given that customer is Female (KP481|Female)=38.15\n",
        "* Probabality of purchasing KP781 given that customer is Female (KP781|Female)=9.21\n",
        "* Probabality that Male customer purchases product, give that KP281 shown (Male|KP281)=50.0\n",
        "* Probabality that Male customer purchases product, give that KP481 shown (Male|KP481)=51.66\n",
        "* Probabality that Male customer purchases product, give that KP781 shown (Male|KP781)=82.50\n",
        "* Probabality that Female customer purchases product, give that KP281 shown (Female|KP281)=50.0\n",
        "* Probabality that Female customer purchases product, give that KP481 shown (Female|KP481)=48.33\n",
        "* Probabality that Female customer purchases product, give that KP781 shown (Female|KP781)=17.5\n",
        "\n"
      ]
    },
    {
      "cell_type": "code",
      "execution_count": null,
      "id": "c38c6939",
      "metadata": {
        "id": "c38c6939",
        "outputId": "4cd628c7-5678-4a8b-82d9-8a3bb4c6a010"
      },
      "outputs": [
        {
          "data": {
            "image/png": "[encoded data removed]",
            "text/plain": [
              "<Figure size 640x480 with 2 Axes>"
            ]
          },
          "metadata": {},
          "output_type": "display_data"
        }
      ],
      "source": [
        "sns.heatmap(pd.crosstab(data['MaritalStatus'], data['Product'], normalize='index'), annot=True, cmap='Spectral_r')\n",
        "plt.show()"
      ]
    },
    {
      "cell_type": "markdown",
      "id": "f564291e",
      "metadata": {
        "id": "f564291e"
      },
      "source": [
        "**Conditional Probability, P(Product | MaritalStatus)**  \n",
        "\n",
        "    1. Probability of buying KP281 given that the marital status is single, P(Product=KP281 | MaritalStatus=Single) = 0.44.  \n",
        "    2. Probability of buying KP481 given that the marital status is single, P(Product=KP481 | MaritalStatus=Single) = 0.33.  \n",
        "    3. Probability of buying KP781 given that the marital status is single, P(Product=781 | MaritalStatus=Single) = 0.23.  \n",
        "    4. Probability of buying KP281 given that the marital status is partnered, P(Product=KP281 | MaritalStatus=Single) = 0.45.  \n",
        "    5. Probability of buying KP481 given that the cmarital status is partnered, P(Product=KP481 | MaritalStatus=Single) = 0.34.  \n",
        "    6. Probability of buying KP781 given that the marital status is partnered, P(Product=KP781 | MaritalStatus=Single) = 0.21.  "
      ]
    },
    {
      "cell_type": "code",
      "execution_count": null,
      "id": "1e956f7c",
      "metadata": {
        "id": "1e956f7c",
        "outputId": "49286e30-c8f2-4248-e6df-db44bda1cec5"
      },
      "outputs": [
        {
          "data": {
            "image/png": "[encoded data removed]",
            "text/plain": [
              "<Figure size 640x480 with 2 Axes>"
            ]
          },
          "metadata": {},
          "output_type": "display_data"
        }
      ],
      "source": [
        "sns.heatmap(pd.crosstab(data['MaritalStatus'], data['Product'], normalize='columns'), annot=True, cmap='Spectral_r')\n",
        "plt.show()"
      ]
    },
    {
      "cell_type": "markdown",
      "id": "e0ed478a",
      "metadata": {
        "id": "e0ed478a"
      },
      "source": [
        "**Conditional Probability P(MaritalStatus | Product)**  \n",
        "\n",
        "    1. Probability of Marital Status being Single given that KP281 is purchased, P(MaritalStatus=Single | Product=KP281) = 0.40.\n",
        "    2. Probability of Marital Status being Parterned given that KP281 is purchased, P(MaritalStatus=Parterned | Product=KP281) = 0.60.\n",
        "    3. Probability of Marital Status being Single given that KP481 is purchased, P(MaritalStatus=Single | Product=KP481) = 0.4.\n",
        "    4. Probability of Marital Status being Partnered given that KP481 is purchased, P(MaritalStatus=Partnered | Product=KP481) = 0.6.\n",
        "    5. Probability of Marital Status being Single given that KP781 is purchased, P(MaritalStatus=Single | Product=KP781 ) = 0.42.\n",
        "    6. Probability of Marital Status being Partnered given that KP781 is purchased, P(MaritalStatus=Partnered | Product=KP781 ) = 0.57."
      ]
    },
    {
      "cell_type": "code",
      "execution_count": null,
      "id": "730d795a",
      "metadata": {
        "id": "730d795a",
        "outputId": "4a6b6fb5-5850-4ce4-fcfc-c6e27db65c37"
      },
      "outputs": [
        {
          "data": {
            "image/png": "[encoded data removed]",
            "text/plain": [
              "<Figure size 1000x700 with 2 Axes>"
            ]
          },
          "metadata": {},
          "output_type": "display_data"
        }
      ],
      "source": [
        "# Correlation Heatmap\n",
        "numeric_df = data.select_dtypes(include='number')\n",
        "\n",
        "plt.figure(figsize=(10, 7))\n",
        "sns.heatmap(numeric_df.corr(), annot=True, cmap='coolwarm')\n",
        "plt.title(\"Correlation Heatmap\")\n",
        "plt.show()\n"
      ]
    },
    {
      "cell_type": "markdown",
      "id": "ae306347",
      "metadata": {
        "id": "ae306347"
      },
      "source": [
        "📊 **Observation:**  \n",
        "Here Pearson co-efficient is used to evalute the correlation between numerical data points. Pearson evalutes the linear relationship between data points.\n",
        "\n",
        "Noting down the observations which are higher than 0.5.  \n",
        "\n",
        "    1.Correlation between Age & Income is 0.51  \n",
        "    2.Correlation between Education & Income is 0.63.  \n",
        "    3.Correlation between Usage & Fitness is 0.67.  \n",
        "    4.Correlation between Usage & Income is 0.52.  \n",
        "    5.Correlation between Usage & Miles is 0.76.  \n",
        "    6.Correlation between Fitness & Income is 0.54.  \n",
        "    7.Correlation between Fitness & Miles is 0.79.  \n",
        "    8.Correlation between Income & Miles is 0.54.  "
      ]
    },
    {
      "cell_type": "code",
      "execution_count": null,
      "id": "ed5a7ecd",
      "metadata": {
        "id": "ed5a7ecd"
      },
      "outputs": [],
      "source": []
    },
    {
      "cell_type": "markdown",
      "id": "171cccf2",
      "metadata": {
        "id": "171cccf2"
      },
      "source": [
        "🧍‍♂️🧍‍♀️ **Customer Profiling by Product**"
      ]
    },
    {
      "cell_type": "markdown",
      "id": "42caf02f",
      "metadata": {
        "id": "42caf02f"
      },
      "source": [
        "🚶‍♂️ **KP281 – Entry-Level Model**  \n",
        "\n",
        "* Age: Mostly between 22-33 years  \n",
        "* Income: $38,000- $50,000  \n",
        "* Fitness Level: Low (3)  \n",
        "* Usage: 3-4 days/week  \n",
        "* Gender: Gender friendly  \n",
        "* Miles/Week: 70-90  \n",
        "* MaritalStatus: Partnered friendly\n",
        "* Demographics: Young, single males dominate this segment  \n",
        "\n",
        "**Recommendations:**  \n",
        "\n",
        "* Position as a starter treadmill for casual users.\n",
        "\n",
        "🏃 **KP481 – Mid-Tier Model**  \n",
        "\n",
        "\n",
        "* Age: 25–33 years  \n",
        "* Income: $45,000–$55,000  \n",
        "* Fitness Level: Moderate (3–4)  \n",
        "* Usage: 3–4 days/week  \n",
        "* Gender: Higher preference among females  \n",
        "* Miles/Week: 70-100\n",
        "* Marital Status: Balanced, but slightly more partnered users  \n",
        "\n",
        "**Recommendations:**  \n",
        "\n",
        "* Position as an all-rounder treadmill for home and shared use.\n",
        "\n",
        "\n",
        "🏋️‍♂️ **KP781 – Premium Model**  \n",
        "\n",
        "* Age: 24-30 years\n",
        "* Income: >$58,000\n",
        "* Fitness Level: High (4–5)\n",
        "* Usage: 4–5 days/week\n",
        "* Gender: Higher preference among males\n",
        "* Miles/Week: High\n",
        "* Demographics: Serious fitness users, gym owners, and corporate professionals\n",
        "\n",
        "**Recommendations:**   \n",
        "\n",
        "* Market as a high-end, performance-focused treadmill.\n",
        "* Target corporate wellness buyers, premium fitness clubs, and athletes.\n",
        "* Highlight smart features, build quality, and long-term value."
      ]
    },
    {
      "cell_type": "markdown",
      "id": "a2b22719",
      "metadata": {
        "id": "a2b22719"
      },
      "source": [
        "**Overall Recommendations:**  \n",
        "1. Promote KP281 and KP481 treadmills as budget-friendly option, especially targeting customers with annual incomes in the range of 38K - 55K Dollars\n",
        "2. Market KP781 treadmill as a premium product with advanced features, targeting professionals and athletes.\n",
        "3. Enhance the marketing strategy for KP781 by associating it with renowned athletes like Neeraj Chopra, Virat Kohili by leveraging their achievements for better outreach.\n",
        "4. Run special marketing campaigns on Yoga day, Women's Day and Mother's Day to encourage more women to adopt an exercise routine, highlighting the benefits of using our treadmills.\n",
        "5. Encourage existing customers to upgrade their treadmills to high-end models as their usage increases over time, leading to increased revenue for the business.\n",
        "6. Ruleout exchange offers for low-end treadmill to buy higher-end treadmill."
      ]
    },
    {
      "cell_type": "markdown",
      "id": "e916ddf2",
      "metadata": {
        "id": "e916ddf2"
      },
      "source": [
        "**Details:**  \n",
        "Name: Nishanth Gowda  \n",
        "Email: nishanthgowdahsn27@gmail.com  "
      ]
    }
  ],
  "metadata": {
    "colab": {
      "provenance": [],
      "toc_visible": true
    },
    "kernelspec": {
      "display_name": "base",
      "language": "python",
      "name": "python3"
    },
    "language_info": {
      "codemirror_mode": {
        "name": "ipython",
        "version": 3
      },
      "file_extension": ".py",
      "mimetype": "text/x-python",
      "name": "python",
      "nbconvert_exporter": "python",
      "pygments_lexer": "ipython3",
      "version": "3.12.7"
    }
  },
  "nbformat": 4,
  "nbformat_minor": 5
}
